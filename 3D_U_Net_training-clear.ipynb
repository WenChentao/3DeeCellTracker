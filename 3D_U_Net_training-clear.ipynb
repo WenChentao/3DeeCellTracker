{
 "cells": [
  {
   "cell_type": "markdown",
   "id": "697b0d44",
   "metadata": {
    "pycharm": {
     "name": "#%% md\n"
    }
   },
   "source": [
    "# 3DeeCellTracker Demo: Train 3D U-Net\n",
    "This notebook shows how to use 3DeeCellTracker to train a 3D U-Net.\n",
    "\n",
    "The basic procedures:\n",
    "\n",
    "1. Initialize the parameters for training\n",
    "2. Load the train / validation datasets\n",
    "3. Preprocess the datasets\n",
    "4. Train the 3D U-Net\n",
    "5. Select the best weights and save the model\n",
    "\n",
    "Please run folloing codes according to the instructions"
   ]
  },
  {
   "cell_type": "markdown",
   "id": "5ecb96b7",
   "metadata": {
    "pycharm": {
     "name": "#%% md\n"
    }
   },
   "source": [
    "## Import packages"
   ]
  },
  {
   "cell_type": "code",
   "execution_count": null,
   "id": "limited-documentation",
   "metadata": {
    "ExecuteTime": {
     "end_time": "2021-05-28T08:55:42.591834Z",
     "start_time": "2021-05-28T08:55:35.453228Z"
    }
   },
   "outputs": [],
   "source": [
    "%load_ext autoreload\n",
    "%autoreload 2\n",
    "import os\n",
    "import warnings\n",
    "warnings.filterwarnings('ignore')\n",
    "from CellTracker.unet3d import TrainingUNet3D, unet3_a\n",
    "%matplotlib inline"
   ]
  },
  {
   "cell_type": "markdown",
   "id": "61d33354",
   "metadata": {
    "pycharm": {
     "name": "#%% md\n"
    }
   },
   "source": [
    "## 1. Initialize the parameters for training"
   ]
  },
  {
   "cell_type": "code",
   "execution_count": null,
   "id": "96253465",
   "metadata": {
    "ExecuteTime": {
     "end_time": "2021-05-28T08:55:53.931353Z",
     "start_time": "2021-05-28T08:55:43.525252Z"
    },
    "pycharm": {
     "name": "#%%\n"
    }
   },
   "outputs": [],
   "source": [
    "trainer = TrainingUNet3D(noise_level=100, folder_path=os.path.abspath(\"./unet_01\"), model=unet3_a())"
   ]
  },
  {
   "cell_type": "markdown",
   "id": "53622a5c",
   "metadata": {
    "pycharm": {
     "name": "#%% md\n"
    }
   },
   "source": [
    "## 2. Load the train / validation datasets"
   ]
  },
  {
   "cell_type": "code",
   "execution_count": null,
   "id": "3952e893",
   "metadata": {
    "pycharm": {
     "name": "#%%\n"
    }
   },
   "outputs": [],
   "source": [
    "trainer.load_dataset()\n",
    "trainer.draw_dataset()"
   ]
  },
  {
   "cell_type": "markdown",
   "id": "1c890ddc",
   "metadata": {
    "pycharm": {
     "name": "#%% md\n"
    }
   },
   "source": [
    "## 3. Preprocess the datasets\n",
    "**Show the normalized images (max projection)**"
   ]
  },
  {
   "cell_type": "code",
   "execution_count": null,
   "id": "20df5b6b",
   "metadata": {
    "pycharm": {
     "name": "#%%\n"
    }
   },
   "outputs": [],
   "source": [
    "trainer.preprocess()\n",
    "trainer.draw_norm_dataset()"
   ]
  },
  {
   "cell_type": "markdown",
   "id": "329cab21",
   "metadata": {
    "pycharm": {
     "name": "#%% md\n"
    }
   },
   "source": [
    "**Show the divided images (part)**"
   ]
  },
  {
   "cell_type": "code",
   "execution_count": null,
   "id": "79516b0e",
   "metadata": {
    "pycharm": {
     "name": "#%%\n"
    }
   },
   "outputs": [],
   "source": [
    "trainer.draw_divided_train_data()"
   ]
  },
  {
   "cell_type": "markdown",
   "id": "e2560a95",
   "metadata": {
    "pycharm": {
     "name": "#%% md\n"
    }
   },
   "source": [
    "## 4. Train the 3D U-Net"
   ]
  },
  {
   "cell_type": "code",
   "execution_count": null,
   "id": "c82b3bef",
   "metadata": {
    "pycharm": {
     "name": "#%%\n"
    },
    "scrolled": false
   },
   "outputs": [],
   "source": [
    "trainer.train()"
   ]
  },
  {
   "cell_type": "markdown",
   "id": "4782a367",
   "metadata": {
    "pycharm": {
     "name": "#%% md\n"
    }
   },
   "source": [
    "## 5. Select the best weights and save the model"
   ]
  },
  {
   "cell_type": "code",
   "execution_count": null,
   "id": "48196a91",
   "metadata": {
    "pycharm": {
     "name": "#%%\n"
    }
   },
   "outputs": [],
   "source": [
    "trainer.select_weights(step=97)"
   ]
  },
  {
   "cell_type": "code",
   "execution_count": null,
   "id": "4e487c85",
   "metadata": {
    "pycharm": {
     "name": "#%%\n"
    }
   },
   "outputs": [],
   "source": []
  }
 ],
 "metadata": {
  "kernelspec": {
   "display_name": "Python 3",
   "language": "python",
   "name": "python3"
  },
  "language_info": {
   "codemirror_mode": {
    "name": "ipython",
    "version": 3
   },
   "file_extension": ".py",
   "mimetype": "text/x-python",
   "name": "python",
   "nbconvert_exporter": "python",
   "pygments_lexer": "ipython3",
   "version": "3.7.3"
  },
  "toc": {
   "base_numbering": 1,
   "nav_menu": {},
   "number_sections": true,
   "sideBar": true,
   "skip_h1_title": false,
   "title_cell": "Table of Contents",
   "title_sidebar": "Contents",
   "toc_cell": false,
   "toc_position": {},
   "toc_section_display": true,
   "toc_window_display": false
  },
  "varInspector": {
   "cols": {
    "lenName": 16,
    "lenType": 16,
    "lenVar": 40
   },
   "kernels_config": {
    "python": {
     "delete_cmd_postfix": "",
     "delete_cmd_prefix": "del ",
     "library": "var_list.py",
     "varRefreshCmd": "print(var_dic_list())"
    },
    "r": {
     "delete_cmd_postfix": ") ",
     "delete_cmd_prefix": "rm(",
     "library": "var_list.r",
     "varRefreshCmd": "cat(var_dic_list()) "
    }
   },
   "types_to_exclude": [
    "module",
    "function",
    "builtin_function_or_method",
    "instance",
    "_Feature"
   ],
   "window_display": false
  }
 },
 "nbformat": 4,
 "nbformat_minor": 5
}
