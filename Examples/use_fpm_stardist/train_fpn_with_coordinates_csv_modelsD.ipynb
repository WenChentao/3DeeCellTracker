{
 "cells": [
  {
   "cell_type": "markdown",
   "id": "af563fb8",
   "metadata": {},
   "source": [
    "# 3DeeCellTracker Demo: Train FlexiblePointMatcher with a .csv file\n",
    "\n",
    "This notebook shows how to train a neural network called FlexiblePointMatching for 3D cell tracking. \n",
    "\n",
    "To get started, you can download the \"worm3_points_t1.csv\" file from our GitHub repository at https://github.com/WenChentao/3DeeCellTracker/blob/master/Examples/use_stardist/worm3_points_t1.csv. This file will be used throughout the notebook to showcase the FFN training process. Alternatively, you can generate your own 3D cell coordinates in a .csv file to train your own model.\n",
    "\n",
    "**The basic procedures:**\n",
    "- A. Import packages\n",
    "- B. Initialize the trainer\n",
    "- C. Train FPM"
   ]
  },
  {
   "cell_type": "markdown",
   "id": "a5db38ef",
   "metadata": {},
   "source": [
    "## A. Import packages"
   ]
  },
  {
   "cell_type": "code",
   "execution_count": 1,
   "id": "146cf1b3",
   "metadata": {},
   "outputs": [],
   "source": [
    "%load_ext autoreload\n",
    "%autoreload \n",
    "from CellTracker.fpm import TrainFPM, FlexiblePointMatcherConvSimpler"
   ]
  },
  {
   "cell_type": "markdown",
   "id": "09e69c8d",
   "metadata": {},
   "source": [
    "## B. Train FPM\n",
    "\n",
    "### Parameters\n",
    "- `points_path`: A string that specifies the path to the .csv file containing the 3D cell coordinates.\n",
    "- `model_name`: A string specifying the name of the ffn model to save. This name will be used to load the model later.\n",
    "\n",
    "### Notes:\n",
    "> By default, the trained model will be saved in the \"ffn_models\" directory. If you want to save the model in a different location, you can specify the basedir parameter and provide the directory path.\n",
    "```\n",
    "    ffn_trainer = TrainFFN(points1_path=points_path, model_name=model_name, basedir=\".\\FolderA\\FolderB\\\")\n",
    "```"
   ]
  },
  {
   "cell_type": "markdown",
   "id": "cb3c7052",
   "metadata": {},
   "source": [
    "### Parameters\n",
    "- `num_epochs`: An integer specifying the number of epochs for training. A larger number of epochs will require a longer training time. The default value of 100 is a reasonable choice."
   ]
  },
  {
   "cell_type": "code",
   "execution_count": 2,
   "id": "7b776f74",
   "metadata": {
    "scrolled": false
   },
   "outputs": [
    {
     "name": "stderr",
     "output_type": "stream",
     "text": [
      "2023-11-16 11:11:09.616719: I tensorflow/stream_executor/cuda/cuda_gpu_executor.cc:937] successful NUMA node read from SysFS had negative value (-1), but there must be at least one NUMA node, so returning NUMA node zero\n",
      "2023-11-16 11:11:09.629824: I tensorflow/stream_executor/cuda/cuda_gpu_executor.cc:937] successful NUMA node read from SysFS had negative value (-1), but there must be at least one NUMA node, so returning NUMA node zero\n",
      "2023-11-16 11:11:09.630728: I tensorflow/stream_executor/cuda/cuda_gpu_executor.cc:937] successful NUMA node read from SysFS had negative value (-1), but there must be at least one NUMA node, so returning NUMA node zero\n",
      "2023-11-16 11:11:09.631841: I tensorflow/core/platform/cpu_feature_guard.cc:142] This TensorFlow binary is optimized with oneAPI Deep Neural Network Library (oneDNN) to use the following CPU instructions in performance-critical operations:  AVX2 AVX512F FMA\n",
      "To enable them in other operations, rebuild TensorFlow with the appropriate compiler flags.\n",
      "2023-11-16 11:11:09.632560: I tensorflow/stream_executor/cuda/cuda_gpu_executor.cc:937] successful NUMA node read from SysFS had negative value (-1), but there must be at least one NUMA node, so returning NUMA node zero\n",
      "2023-11-16 11:11:09.633212: I tensorflow/stream_executor/cuda/cuda_gpu_executor.cc:937] successful NUMA node read from SysFS had negative value (-1), but there must be at least one NUMA node, so returning NUMA node zero\n",
      "2023-11-16 11:11:09.633770: I tensorflow/stream_executor/cuda/cuda_gpu_executor.cc:937] successful NUMA node read from SysFS had negative value (-1), but there must be at least one NUMA node, so returning NUMA node zero\n",
      "2023-11-16 11:11:09.878487: I tensorflow/stream_executor/cuda/cuda_gpu_executor.cc:937] successful NUMA node read from SysFS had negative value (-1), but there must be at least one NUMA node, so returning NUMA node zero\n",
      "2023-11-16 11:11:09.878999: I tensorflow/stream_executor/cuda/cuda_gpu_executor.cc:937] successful NUMA node read from SysFS had negative value (-1), but there must be at least one NUMA node, so returning NUMA node zero\n",
      "2023-11-16 11:11:09.879378: I tensorflow/stream_executor/cuda/cuda_gpu_executor.cc:937] successful NUMA node read from SysFS had negative value (-1), but there must be at least one NUMA node, so returning NUMA node zero\n",
      "2023-11-16 11:11:09.879728: I tensorflow/core/common_runtime/gpu/gpu_device.cc:1510] Created device /job:localhost/replica:0/task:0/device:GPU:0 with 10035 MB memory:  -> device: 0, name: NVIDIA GeForce RTX 3080 Ti, pci bus id: 0000:01:00.0, compute capability: 8.6\n",
      "Epoch 1/2:   0%|      | 0/5000 [00:00<?, ?batch/s]2023-11-16 11:11:10.449129: I tensorflow/stream_executor/cuda/cuda_dnn.cc:369] Loaded cuDNN version 8101\n",
      "2023-11-16 11:11:11.114907: I tensorflow/stream_executor/cuda/cuda_blas.cc:1760] TensorFloat-32 will be used for the matrix multiplication. This will only be logged once.\n",
      "Epoch 1/2: 5001batch [01:14, 66.95batch/s, Train Accuracy=0.826, Train loss=0.248]\n",
      "Epoch 2/2: 5001batch [01:12, 68.52batch/s, Train Accuracy=0.902, Train loss=0.17]\n"
     ]
    },
    {
     "name": "stdout",
     "output_type": "stream",
     "text": [
      "The trained models have been saved as: \n",
      "fpm_models/fpm_add_2skip_ed_worm3_180_deg.h5\n"
     ]
    }
   ],
   "source": [
    "points_path=\"./worm3_points_t1.csv\"\n",
    "model_name=\"fpm_add_2skip_simple_worm3_180_deg\"\n",
    "deg = 180\n",
    "num_epochs=2\n",
    "match_model = FlexiblePointMatcherConvSimpler(num_skip=2)\n",
    "\n",
    "fpm_trainer = TrainFPM(points1_path=points_path, match_model=match_model, model_name=model_name, \n",
    "                       range_rotation_tgt=deg)\n",
    "fpm_trainer.train(num_epochs=num_epochs, iteration=5000)"
   ]
  },
  {
   "cell_type": "code",
   "execution_count": 3,
   "id": "2104524a",
   "metadata": {},
   "outputs": [
    {
     "name": "stdout",
     "output_type": "stream",
     "text": [
      "Model: \"flexible_point_matcher_conv_simpler\"\n",
      "_________________________________________________________________\n",
      "Layer (type)                 Output Shape              Param #   \n",
      "=================================================================\n",
      "model_2 (Functional)         (None, 4, 128)            37504     \n",
      "_________________________________________________________________\n",
      "model_3 (Functional)         (None, 1)                 3753      \n",
      "=================================================================\n",
      "Total params: 41,257\n",
      "Trainable params: 40,217\n",
      "Non-trainable params: 1,040\n",
      "_________________________________________________________________\n"
     ]
    }
   ],
   "source": [
    "match_model.summary()"
   ]
  },
  {
   "cell_type": "code",
   "execution_count": 4,
   "id": "3054a6ea",
   "metadata": {
    "scrolled": false
   },
   "outputs": [
    {
     "name": "stderr",
     "output_type": "stream",
     "text": [
      "Epoch 1/2: 5001batch [01:23, 59.74batch/s, Train Accuracy=0.838, Train loss=0.24]\n",
      "Epoch 2/2: 5001batch [01:21, 61.13batch/s, Train Accuracy=0.908, Train loss=0.16]\n"
     ]
    },
    {
     "name": "stdout",
     "output_type": "stream",
     "text": [
      "The trained models have been saved as: \n",
      "fpm_models/fpm_add_3skip_simple_worm3_180_deg.h5\n"
     ]
    }
   ],
   "source": [
    "points_path=\"./worm3_points_t1.csv\"\n",
    "model_name=\"fpm_add_3skip_simple_worm3_180_deg\"\n",
    "deg = 180\n",
    "num_epochs=2\n",
    "match_model = FlexiblePointMatcherConvSimpler(num_skip=3)\n",
    "\n",
    "fpm_trainer = TrainFPM(points1_path=points_path, match_model=match_model, model_name=model_name, \n",
    "                       range_rotation_tgt=deg)\n",
    "fpm_trainer.train(num_epochs=num_epochs, iteration=5000)"
   ]
  },
  {
   "cell_type": "code",
   "execution_count": 5,
   "id": "f9084490",
   "metadata": {},
   "outputs": [
    {
     "name": "stdout",
     "output_type": "stream",
     "text": [
      "Model: \"flexible_point_matcher_conv_simpler_1\"\n",
      "_________________________________________________________________\n",
      "Layer (type)                 Output Shape              Param #   \n",
      "=================================================================\n",
      "model_6 (Functional)         (None, 4, 128)            54528     \n",
      "_________________________________________________________________\n",
      "model_7 (Functional)         (None, 1)                 3753      \n",
      "=================================================================\n",
      "Total params: 58,281\n",
      "Trainable params: 56,985\n",
      "Non-trainable params: 1,296\n",
      "_________________________________________________________________\n"
     ]
    }
   ],
   "source": [
    "match_model.summary()"
   ]
  },
  {
   "cell_type": "code",
   "execution_count": null,
   "id": "9865f3d4",
   "metadata": {
    "scrolled": false
   },
   "outputs": [
    {
     "name": "stderr",
     "output_type": "stream",
     "text": [
      "Epoch 1/2: 5001batch [01:31, 54.62batch/s, Train Accuracy=0.952, Train loss=0.0703]\n",
      "Epoch 2/2:  81%|▊| 4057/5000 [01:14<00:16, 57.33ba"
     ]
    }
   ],
   "source": [
    "points_path=\"./worm3_points_t1.csv\"\n",
    "model_name=\"fpm_add_4skip_simple_worm3_180_deg\"\n",
    "deg = 10\n",
    "num_epochs=2\n",
    "match_model = FlexiblePointMatcherConvSimpler(num_skip=4)\n",
    "\n",
    "fpm_trainer = TrainFPM(points1_path=points_path, match_model=match_model, model_name=model_name, \n",
    "                       range_rotation_tgt=deg)\n",
    "fpm_trainer.train(num_epochs=num_epochs, iteration=5000)"
   ]
  },
  {
   "cell_type": "code",
   "execution_count": null,
   "id": "524d0c0c",
   "metadata": {},
   "outputs": [],
   "source": []
  },
  {
   "cell_type": "markdown",
   "id": "3a6199e7",
   "metadata": {
    "scrolled": false
   },
   "source": [
    "# points_path=\"./worm3_points_t1.csv\"\n",
    "model_name=\"fpm_add_worm3_180_deg\"\n",
    "deg = (-180, 180)\n",
    "\n",
    "fpm_trainer = TrainFPM(points1_path=points_path, model_type=\"add\", model_name=model_name, range_rotation_ref=deg, range_rotation_tgt=deg)\n",
    "num_epochs=100\n",
    "\n",
    "fpm_trainer.train(num_epochs=num_epochs, iteration=5000)"
   ]
  },
  {
   "cell_type": "code",
   "execution_count": 4,
   "id": "8faa0777",
   "metadata": {
    "scrolled": false
   },
   "outputs": [
    {
     "name": "stderr",
     "output_type": "stream",
     "text": [
      "Epoch 1/100: 5001batch [01:31, 54.84batch/s, Train Accuracy=0.872, Train loss=0.191]\n",
      "Epoch 2/100: 5001batch [01:31, 54.79batch/s, Train Accuracy=0.929, Train loss=0.129]\n",
      "Epoch 3/100: 5001batch [01:31, 54.71batch/s, Train Accuracy=0.938, Train loss=0.125]\n",
      "Epoch 4/100: 5001batch [01:31, 54.75batch/s, Train Accuracy=0.942, Train loss=0.12]\n",
      "Epoch 5/100: 5001batch [01:31, 54.75batch/s, Train Accuracy=0.945, Train loss=0.116]\n",
      "Epoch 6/100: 5001batch [01:31, 54.78batch/s, Train Accuracy=0.947, Train loss=0.106]\n",
      "Epoch 7/100: 5001batch [01:31, 54.72batch/s, Train Accuracy=0.949, Train loss=0.104]\n",
      "Epoch 8/100: 5001batch [01:31, 54.85batch/s, Train Accuracy=0.951, Train loss=0.0969]\n",
      "Epoch 9/100: 5001batch [01:31, 54.85batch/s, Train Accuracy=0.952, Train loss=0.0959]\n",
      "Epoch 10/100: 5001batch [01:31, 54.73batch/s, Train Accuracy=0.953, Train loss=0.0931]\n",
      "Epoch 11/100: 5001batch [01:31, 54.78batch/s, Train Accuracy=0.954, Train loss=0.0942]\n",
      "Epoch 12/100: 5001batch [01:31, 54.81batch/s, Train Accuracy=0.955, Train loss=0.0902]\n",
      "Epoch 13/100: 5001batch [01:31, 54.79batch/s, Train Accuracy=0.956, Train loss=0.0909]\n",
      "Epoch 14/100: 5001batch [01:31, 54.75batch/s, Train Accuracy=0.957, Train loss=0.0874]\n",
      "Epoch 15/100: 5001batch [01:31, 54.82batch/s, Train Accuracy=0.957, Train loss=0.0912]\n",
      "Epoch 16/100: 5001batch [01:31, 54.82batch/s, Train Accuracy=0.958, Train loss=0.0896]\n",
      "Epoch 17/100: 5001batch [01:31, 54.77batch/s, Train Accuracy=0.958, Train loss=0.0893]\n",
      "Epoch 18/100: 5001batch [01:31, 54.83batch/s, Train Accuracy=0.959, Train loss=0.0884]\n",
      "Epoch 19/100: 5001batch [01:31, 54.81batch/s, Train Accuracy=0.959, Train loss=0.088]\n",
      "Epoch 20/100: 5001batch [01:31, 54.78batch/s, Train Accuracy=0.96, Train loss=0.0858]\n",
      "Epoch 21/100: 5001batch [01:31, 54.74batch/s, Train Accuracy=0.96, Train loss=0.0848]\n",
      "Epoch 22/100: 5001batch [01:31, 54.80batch/s, Train Accuracy=0.96, Train loss=0.0873]\n",
      "Epoch 23/100: 5001batch [01:31, 54.76batch/s, Train Accuracy=0.961, Train loss=0.0869]\n",
      "Epoch 24/100: 5001batch [01:31, 54.67batch/s, Train Accuracy=0.961, Train loss=0.0849]\n",
      "Epoch 25/100: 5001batch [01:31, 54.71batch/s, Train Accuracy=0.961, Train loss=0.0884]\n",
      "Epoch 26/100: 5001batch [01:31, 54.73batch/s, Train Accuracy=0.961, Train loss=0.0842]\n",
      "Epoch 27/100: 5001batch [01:31, 54.71batch/s, Train Accuracy=0.962, Train loss=0.084]\n",
      "Epoch 28/100: 5001batch [01:31, 54.73batch/s, Train Accuracy=0.962, Train loss=0.0841]\n",
      "Epoch 29/100: 5001batch [01:31, 54.84batch/s, Train Accuracy=0.962, Train loss=0.0832]\n",
      "Epoch 30/100: 5001batch [01:31, 54.84batch/s, Train Accuracy=0.962, Train loss=0.0833]\n",
      "Epoch 31/100: 5001batch [01:31, 54.83batch/s, Train Accuracy=0.962, Train loss=0.0829]\n",
      "Epoch 32/100: 5001batch [01:31, 54.90batch/s, Train Accuracy=0.963, Train loss=0.084]\n",
      "Epoch 33/100: 5001batch [01:31, 54.76batch/s, Train Accuracy=0.963, Train loss=0.0839]\n",
      "Epoch 34/100: 5001batch [01:31, 54.86batch/s, Train Accuracy=0.963, Train loss=0.0839]\n",
      "Epoch 35/100: 5001batch [01:31, 54.78batch/s, Train Accuracy=0.963, Train loss=0.0837]\n",
      "Epoch 36/100: 5001batch [01:31, 54.85batch/s, Train Accuracy=0.963, Train loss=0.0827]\n",
      "Epoch 37/100: 5001batch [01:31, 54.73batch/s, Train Accuracy=0.963, Train loss=0.0841]\n",
      "Epoch 38/100: 5001batch [01:31, 54.86batch/s, Train Accuracy=0.963, Train loss=0.0824]\n",
      "Epoch 39/100: 5001batch [01:31, 54.83batch/s, Train Accuracy=0.964, Train loss=0.0847]\n",
      "Epoch 40/100: 5001batch [01:31, 54.68batch/s, Train Accuracy=0.964, Train loss=0.0823]\n",
      "Epoch 41/100: 5001batch [01:31, 54.76batch/s, Train Accuracy=0.964, Train loss=0.0812]\n",
      "Epoch 42/100: 5001batch [01:31, 54.82batch/s, Train Accuracy=0.964, Train loss=0.0825]\n",
      "Epoch 43/100: 5001batch [01:31, 54.70batch/s, Train Accuracy=0.964, Train loss=0.0831]\n",
      "Epoch 44/100: 5001batch [01:31, 54.71batch/s, Train Accuracy=0.964, Train loss=0.0812]\n",
      "Epoch 45/100: 5001batch [01:31, 54.74batch/s, Train Accuracy=0.964, Train loss=0.0821]\n",
      "Epoch 46/100: 5001batch [01:31, 54.69batch/s, Train Accuracy=0.964, Train loss=0.0797]\n",
      "Epoch 47/100: 5001batch [01:31, 54.66batch/s, Train Accuracy=0.964, Train loss=0.0773]\n",
      "Epoch 48/100: 5001batch [01:31, 54.72batch/s, Train Accuracy=0.965, Train loss=0.082]\n",
      "Epoch 49/100: 5001batch [01:31, 54.68batch/s, Train Accuracy=0.965, Train loss=0.0827]\n",
      "Epoch 50/100: 5001batch [01:31, 54.59batch/s, Train Accuracy=0.965, Train loss=0.0812]\n",
      "Epoch 51/100: 5001batch [01:31, 54.81batch/s, Train Accuracy=0.965, Train loss=0.0827]\n",
      "Epoch 52/100: 5001batch [01:31, 54.78batch/s, Train Accuracy=0.965, Train loss=0.0793]\n",
      "Epoch 53/100: 5001batch [01:31, 54.83batch/s, Train Accuracy=0.965, Train loss=0.0782]\n",
      "Epoch 54/100: 5001batch [01:31, 54.85batch/s, Train Accuracy=0.965, Train loss=0.0779]\n",
      "Epoch 55/100: 5001batch [01:31, 54.69batch/s, Train Accuracy=0.965, Train loss=0.0807]\n",
      "Epoch 56/100: 5001batch [01:31, 54.80batch/s, Train Accuracy=0.965, Train loss=0.0827]\n",
      "Epoch 57/100: 5001batch [01:31, 54.72batch/s, Train Accuracy=0.965, Train loss=0.0825]\n",
      "Epoch 58/100: 5001batch [01:31, 54.75batch/s, Train Accuracy=0.965, Train loss=0.0832]\n",
      "Epoch 59/100: 5001batch [01:31, 54.76batch/s, Train Accuracy=0.965, Train loss=0.08]\n",
      "Epoch 60/100: 5001batch [01:31, 54.71batch/s, Train Accuracy=0.965, Train loss=0.0785]\n",
      "Epoch 61/100: 5001batch [01:31, 54.77batch/s, Train Accuracy=0.966, Train loss=0.0779]\n",
      "Epoch 62/100: 5001batch [01:31, 54.77batch/s, Train Accuracy=0.966, Train loss=0.084]\n",
      "Epoch 63/100: 5001batch [01:31, 54.61batch/s, Train Accuracy=0.966, Train loss=0.0803]\n",
      "Epoch 64/100: 5001batch [01:31, 54.72batch/s, Train Accuracy=0.966, Train loss=0.0821]\n",
      "Epoch 65/100: 5001batch [01:31, 54.77batch/s, Train Accuracy=0.966, Train loss=0.0812]\n",
      "Epoch 66/100: 5001batch [01:31, 54.78batch/s, Train Accuracy=0.966, Train loss=0.0785]\n",
      "Epoch 67/100: 5001batch [01:31, 54.72batch/s, Train Accuracy=0.966, Train loss=0.0787]\n",
      "Epoch 68/100: 5001batch [01:31, 54.68batch/s, Train Accuracy=0.966, Train loss=0.0784]\n",
      "Epoch 69/100: 5001batch [01:31, 54.73batch/s, Train Accuracy=0.966, Train loss=0.0771]\n",
      "Epoch 70/100: 5001batch [01:31, 54.63batch/s, Train Accuracy=0.966, Train loss=0.0785]\n",
      "Epoch 71/100: 5001batch [01:31, 54.80batch/s, Train Accuracy=0.966, Train loss=0.0792]\n",
      "Epoch 72/100: 5001batch [01:31, 54.71batch/s, Train Accuracy=0.966, Train loss=0.0788]\n",
      "Epoch 73/100: 5001batch [01:31, 54.42batch/s, Train Accuracy=0.966, Train loss=0.081]\n",
      "Epoch 74/100: 5001batch [01:31, 54.78batch/s, Train Accuracy=0.966, Train loss=0.0789]\n",
      "Epoch 75/100: 5001batch [01:31, 54.78batch/s, Train Accuracy=0.966, Train loss=0.0794]\n",
      "Epoch 76/100: 5001batch [01:31, 54.70batch/s, Train Accuracy=0.966, Train loss=0.0771]\n",
      "Epoch 77/100: 5001batch [01:31, 54.72batch/s, Train Accuracy=0.966, Train loss=0.0803]\n",
      "Epoch 78/100: 5001batch [01:31, 54.82batch/s, Train Accuracy=0.966, Train loss=0.0779]\n",
      "Epoch 79/100: 5001batch [01:31, 54.82batch/s, Train Accuracy=0.967, Train loss=0.076]\n",
      "Epoch 80/100: 5001batch [01:31, 54.65batch/s, Train Accuracy=0.967, Train loss=0.0786]\n",
      "Epoch 81/100: 5001batch [01:31, 54.73batch/s, Train Accuracy=0.967, Train loss=0.0776]\n",
      "Epoch 82/100: 5001batch [01:31, 54.77batch/s, Train Accuracy=0.967, Train loss=0.0774]\n",
      "Epoch 83/100: 5001batch [01:31, 54.77batch/s, Train Accuracy=0.967, Train loss=0.0771]\n",
      "Epoch 84/100: 5001batch [01:31, 54.70batch/s, Train Accuracy=0.967, Train loss=0.0777]\n",
      "Epoch 85/100: 5001batch [01:31, 54.76batch/s, Train Accuracy=0.967, Train loss=0.0785]\n",
      "Epoch 86/100: 5001batch [01:31, 54.62batch/s, Train Accuracy=0.967, Train loss=0.077]\n",
      "Epoch 87/100: 5001batch [01:31, 54.68batch/s, Train Accuracy=0.967, Train loss=0.0809]\n",
      "Epoch 88/100: 5001batch [01:31, 54.64batch/s, Train Accuracy=0.967, Train loss=0.0768]\n",
      "Epoch 89/100: 5001batch [01:31, 54.64batch/s, Train Accuracy=0.967, Train loss=0.0752]\n",
      "Epoch 90/100: 5001batch [01:31, 54.74batch/s, Train Accuracy=0.967, Train loss=0.0759]\n",
      "Epoch 91/100: 5001batch [01:31, 54.66batch/s, Train Accuracy=0.967, Train loss=0.0775]\n",
      "Epoch 92/100: 5001batch [01:31, 54.74batch/s, Train Accuracy=0.967, Train loss=0.0774]\n",
      "Epoch 93/100: 5001batch [01:31, 54.69batch/s, Train Accuracy=0.967, Train loss=0.0762]\n",
      "Epoch 94/100: 5001batch [01:31, 54.71batch/s, Train Accuracy=0.967, Train loss=0.0762]\n",
      "Epoch 95/100: 5001batch [01:31, 54.83batch/s, Train Accuracy=0.967, Train loss=0.0745]\n",
      "Epoch 96/100: 5001batch [01:31, 54.80batch/s, Train Accuracy=0.967, Train loss=0.0775]\n",
      "Epoch 97/100: 5001batch [01:31, 54.87batch/s, Train Accuracy=0.967, Train loss=0.0752]\n",
      "Epoch 98/100: 5001batch [01:31, 54.83batch/s, Train Accuracy=0.967, Train loss=0.0769]\n",
      "Epoch 99/100: 5001batch [01:31, 54.81batch/s, Train Accuracy=0.967, Train loss=0.0775]\n",
      "Epoch 100/100: 5001batch [01:31, 54.89batch/s, Train Accuracy=0.967, Train loss=0.0756]\n"
     ]
    },
    {
     "name": "stdout",
     "output_type": "stream",
     "text": [
      "The trained models have been saved as: \n",
      "fpm_models/fpm_conv_2skip_worm3_90_deg.h5\n"
     ]
    }
   ],
   "source": [
    "points_path=\"./worm3_points_t1.csv\"\n",
    "model_name=\"fpm_conv_2skip_worm3_90_deg\"\n",
    "deg = 90\n",
    "num_epochs=100\n",
    "match_model = FlexiblePointMatcherConv(num_skip=2)\n",
    "\n",
    "fpm_trainer = TrainFPM(points1_path=points_path, match_model=match_model, model_name=model_name, \n",
    "                       range_rotation_tgt=deg)\n",
    "fpm_trainer.train(num_epochs=num_epochs, iteration=5000)"
   ]
  },
  {
   "cell_type": "code",
   "execution_count": null,
   "id": "c27022ca",
   "metadata": {},
   "outputs": [],
   "source": []
  }
 ],
 "metadata": {
  "kernelspec": {
   "display_name": "Python 3 (ipykernel)",
   "language": "python",
   "name": "python3"
  },
  "language_info": {
   "codemirror_mode": {
    "name": "ipython",
    "version": 3
   },
   "file_extension": ".py",
   "mimetype": "text/x-python",
   "name": "python",
   "nbconvert_exporter": "python",
   "pygments_lexer": "ipython3",
   "version": "3.8.13"
  }
 },
 "nbformat": 4,
 "nbformat_minor": 5
}
