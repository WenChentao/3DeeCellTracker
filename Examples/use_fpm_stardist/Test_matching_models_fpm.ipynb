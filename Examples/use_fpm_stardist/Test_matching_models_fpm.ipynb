{
 "cells": [
  {
   "cell_type": "code",
   "execution_count": 1,
   "id": "142e8351",
   "metadata": {},
   "outputs": [],
   "source": [
    "%load_ext autoreload\n",
    "%autoreload 2\n",
    "from CellTracker.test_matching_models import match_by_fpm, rotation_align_by_fpm,\\\n",
    "    load_fpm\n",
    "from CellTracker.fpm import FlexiblePointMatcherConv, FlexiblePointMatcherOriginal\n",
    "from CellTracker.trackerlite import plot_initial_matching\n",
    "import numpy as np"
   ]
  },
  {
   "cell_type": "code",
   "execution_count": 2,
   "id": "db574173",
   "metadata": {},
   "outputs": [
    {
     "name": "stderr",
     "output_type": "stream",
     "text": [
      "2023-10-04 10:26:03.329353: I tensorflow/stream_executor/cuda/cuda_gpu_executor.cc:937] successful NUMA node read from SysFS had negative value (-1), but there must be at least one NUMA node, so returning NUMA node zero\n",
      "2023-10-04 10:26:03.332809: I tensorflow/stream_executor/cuda/cuda_gpu_executor.cc:937] successful NUMA node read from SysFS had negative value (-1), but there must be at least one NUMA node, so returning NUMA node zero\n",
      "2023-10-04 10:26:03.333231: I tensorflow/stream_executor/cuda/cuda_gpu_executor.cc:937] successful NUMA node read from SysFS had negative value (-1), but there must be at least one NUMA node, so returning NUMA node zero\n",
      "2023-10-04 10:26:03.333984: I tensorflow/core/platform/cpu_feature_guard.cc:142] This TensorFlow binary is optimized with oneAPI Deep Neural Network Library (oneDNN) to use the following CPU instructions in performance-critical operations:  AVX2 AVX512F FMA\n",
      "To enable them in other operations, rebuild TensorFlow with the appropriate compiler flags.\n",
      "2023-10-04 10:26:03.334815: I tensorflow/stream_executor/cuda/cuda_gpu_executor.cc:937] successful NUMA node read from SysFS had negative value (-1), but there must be at least one NUMA node, so returning NUMA node zero\n",
      "2023-10-04 10:26:03.335249: I tensorflow/stream_executor/cuda/cuda_gpu_executor.cc:937] successful NUMA node read from SysFS had negative value (-1), but there must be at least one NUMA node, so returning NUMA node zero\n",
      "2023-10-04 10:26:03.335664: I tensorflow/stream_executor/cuda/cuda_gpu_executor.cc:937] successful NUMA node read from SysFS had negative value (-1), but there must be at least one NUMA node, so returning NUMA node zero\n",
      "2023-10-04 10:26:03.584069: I tensorflow/stream_executor/cuda/cuda_gpu_executor.cc:937] successful NUMA node read from SysFS had negative value (-1), but there must be at least one NUMA node, so returning NUMA node zero\n",
      "2023-10-04 10:26:03.584481: I tensorflow/stream_executor/cuda/cuda_gpu_executor.cc:937] successful NUMA node read from SysFS had negative value (-1), but there must be at least one NUMA node, so returning NUMA node zero\n",
      "2023-10-04 10:26:03.584846: I tensorflow/stream_executor/cuda/cuda_gpu_executor.cc:937] successful NUMA node read from SysFS had negative value (-1), but there must be at least one NUMA node, so returning NUMA node zero\n",
      "2023-10-04 10:26:03.585208: I tensorflow/core/common_runtime/gpu/gpu_device.cc:1510] Created device /job:localhost/replica:0/task:0/device:GPU:0 with 10035 MB memory:  -> device: 0, name: NVIDIA GeForce RTX 3080 Ti, pci bus id: 0000:01:00.0, compute capability: 8.6\n",
      "2023-10-04 10:26:04.083414: I tensorflow/stream_executor/cuda/cuda_dnn.cc:369] Loaded cuDNN version 8101\n",
      "2023-10-04 10:26:04.736808: I tensorflow/stream_executor/cuda/cuda_blas.cc:1760] TensorFloat-32 will be used for the matrix multiplication. This will only be logged once.\n"
     ]
    }
   ],
   "source": [
    "def cal_acc(points2, pairs):\n",
    "    ids = points2[:, 3]>-1\n",
    "    ids_ = np.nonzero(ids)[0]\n",
    "    print(ids_+1)\n",
    "    groundtruth = points2[ids, 3]\n",
    "    pairs_ids = np.asarray([(points1[row[0], 3], points2[row[1],3]) for row in pairs if row[1] in (ids_+1).tolist()])\n",
    "    acc = np.count_nonzero(np.abs(pairs_ids[:, 0]-pairs_ids[:,1])<0.1)/groundtruth.size\n",
    "    return acc\n",
    "\n",
    "match_model = FlexiblePointMatcherConv(num_skip=2)\n",
    "fpm_model = load_fpm(fpm_model_path=\"./fpm_models/fpm_conv_2skip_worm3_180_deg.h5\", match_model=match_model)"
   ]
  },
  {
   "cell_type": "code",
   "execution_count": 34,
   "id": "0b1852e4",
   "metadata": {},
   "outputs": [
    {
     "name": "stdout",
     "output_type": "stream",
     "text": [
      "[[-5.30407384e-01  5.62253349e-03 -2.42868805e-01 -1.00000000e+00]\n",
      " [-4.71781410e-01  2.30956518e-02 -2.17106926e-01 -1.00000000e+00]\n",
      " [-4.10257984e-01  2.26054557e-02 -2.17106926e-01  4.50000000e+01]\n",
      " [-3.66718252e-01  2.58149500e-02 -2.42868805e-01 -1.00000000e+00]\n",
      " [-5.37367816e-01  1.11356890e-02 -1.91630761e-01  8.00000000e+01]\n",
      " [-2.64639371e-02 -1.46534725e-01 -1.41083192e-01  4.10000000e+01]\n",
      " [ 6.58925735e-02 -1.33022234e-01 -1.41083192e-01  1.00000000e+01]\n",
      " [-5.01260122e-01 -1.18171855e-01 -1.41083192e-01  3.60000000e+01]\n",
      " [-3.98965050e-01  3.19504575e-02 -1.66940309e-01 -1.00000000e+00]\n",
      " [ 1.34885925e-01 -3.56947607e-02 -1.41083192e-01  7.00000000e+00]\n",
      " [ 7.45980471e-02 -3.98500847e-02 -1.15702265e-01 -1.00000000e+00]\n",
      " [-5.58124288e-02 -2.15388145e-01 -1.15702265e-01  5.80000000e+01]\n",
      " [-4.74170163e-02 -8.77755603e-02 -1.15702265e-01  2.10000000e+01]\n",
      " [ 3.31784071e-02 -8.71783208e-02 -1.15702265e-01  1.30000000e+01]\n",
      " [-9.64989541e-02 -5.73429447e-02 -1.15702265e-01  0.00000000e+00]\n",
      " [-1.82543178e-01 -4.74368296e-02 -1.15702265e-01 -1.00000000e+00]\n",
      " [-1.07164455e-01  4.61255169e-02 -1.15702265e-01  2.30000000e+01]\n",
      " [ 7.88610806e-02 -1.90475777e-01 -1.15702265e-01  7.10000000e+01]\n",
      " [-1.11336020e-01 -9.09114404e-02 -1.15702265e-01 -1.00000000e+00]\n",
      " [ 2.07792053e-01 -4.91535392e-02 -1.15702265e-01  3.30000000e+01]\n",
      " [ 2.33428426e-01 -1.70128392e-01 -8.99403863e-02  7.20000000e+01]\n",
      " [ 2.94606961e-01 -1.39498434e-01 -8.99403863e-02 -1.00000000e+00]\n",
      " [ 3.18476465e-01 -1.08735850e-01 -8.99403863e-02  6.70000000e+01]\n",
      " [-2.73639907e-01 -7.60710149e-02 -8.99403863e-02  7.60000000e+01]\n",
      " [ 2.97147568e-01 -8.49026732e-02 -8.99403863e-02  7.70000000e+01]\n",
      " [ 1.28786871e-02 -2.48666353e-02 -8.99403863e-02 -1.00000000e+00]\n",
      " [ 3.29060256e-01 -2.13835149e-02 -1.15702265e-01  3.90000000e+01]\n",
      " [ 5.50423993e-02  2.44939327e-03 -8.99403863e-02  7.80000000e+01]\n",
      " [-3.09332601e-01  7.86849375e-02 -6.35356508e-02  8.10000000e+01]\n",
      " [ 4.02789828e-01 -1.98113872e-01 -6.35356508e-02  8.00000000e+00]\n",
      " [-5.80610533e-02 -4.22392392e-02 -6.35356508e-02  2.90000000e+01]\n",
      " [ 2.44512843e-01 -1.10816470e-02 -8.99403863e-02  6.90000000e+01]\n",
      " [-3.39974631e-02  2.75904582e-02 -8.99403863e-02  4.40000000e+01]\n",
      " [-1.81524850e-01  5.40820521e-02 -6.35356508e-02  5.10000000e+01]\n",
      " [-1.38937738e-01  1.34169627e-01 -6.35356508e-02  4.60000000e+01]\n",
      " [-1.43290934e-01 -1.14043482e-02 -6.35356508e-02 -1.00000000e+00]\n",
      " [-8.11474359e-03  3.56597543e-02 -6.35356508e-02 -1.00000000e+00]\n",
      " [-6.38138710e-02  1.11559875e-01 -6.35356508e-02  2.50000000e+01]\n",
      " [ 3.09789153e-01  2.61080329e-03 -3.89166278e-02 -1.00000000e+00]\n",
      " [ 3.98139802e-01  2.87926215e-02 -6.35356508e-02 -1.00000000e+00]\n",
      " [ 4.17752117e-01  2.99318921e-02 -3.89166278e-02  5.20000000e+01]\n",
      " [ 2.12129701e-01  4.95559692e-02 -3.89166278e-02  5.00000000e+00]\n",
      " [ 4.53601606e-01  2.91476163e-02 -3.89166278e-02  3.00000000e+00]\n",
      " [ 1.54151660e-01  3.08558626e-02 -1.34642723e-02  5.30000000e+01]\n",
      " [ 3.82256395e-01  1.21987928e-01 -1.34642723e-02  4.00000000e+01]\n",
      " [ 1.23961236e-01 -2.13042906e-01 -1.34642723e-02  5.70000000e+01]\n",
      " [ 4.47475620e-01 -1.62762744e-01 -1.34642723e-02 -1.00000000e+00]\n",
      " [ 4.23324832e-01 -1.28023312e-01 -1.34642723e-02  2.20000000e+01]\n",
      " [ 2.88994199e-01  7.78788496e-02 -1.34642723e-02  3.00000000e+01]\n",
      " [-3.74361773e-01 -2.41392797e-01  1.34642722e-02  7.40000000e+01]\n",
      " [ 3.49630909e-01 -1.27538406e-01 -1.34642723e-02 -1.00000000e+00]\n",
      " [-3.66623936e-01  1.40802244e-01 -1.34642723e-02 -1.00000000e+00]\n",
      " [-4.23358222e-01  1.78602898e-01 -1.34642723e-02 -1.00000000e+00]\n",
      " [ 8.11474359e-03  9.95700107e-02  1.34642722e-02  7.30000000e+01]\n",
      " [-2.97398077e-01  1.61242582e-01  1.34642722e-02 -1.00000000e+00]\n",
      " [-6.11734482e-01  1.79337031e-01  1.34642722e-02  5.90000000e+01]\n",
      " [-5.54436523e-01  1.74848189e-01  1.34642722e-02 -1.00000000e+00]\n",
      " [-3.07209648e-01 -2.10550913e-02  1.34642722e-02  5.50000000e+01]\n",
      " [ 5.87208621e-01  1.56813216e-02  1.34642722e-02 -1.00000000e+00]\n",
      " [ 7.81635173e-02  5.55904758e-02  1.34642722e-02  3.50000000e+01]\n",
      " [-2.40253205e-01  1.59213600e-01  1.34642722e-02  2.00000000e+00]\n",
      " [-8.46290353e-01  2.00548226e-01  1.34642722e-02  3.70000000e+01]\n",
      " [-4.67965120e-01  1.80733496e-01  1.34642722e-02 -1.00000000e+00]\n",
      " [-8.93476906e-01  2.15158715e-01  1.34642722e-02 -1.00000000e+00]\n",
      " [-2.75461485e-02  1.56862869e-01  1.34642722e-02 -1.00000000e+00]\n",
      " [-3.67738056e-01  1.57180519e-01  3.96071032e-02 -1.00000000e+00]\n",
      " [-7.45831079e-02 -2.44939327e-03  3.96071032e-02 -1.00000000e+00]\n",
      " [-4.83172250e-02 -1.30251092e-02  3.96071032e-02  2.70000000e+01]\n",
      " [ 1.84454487e-01  3.21982159e-02  1.34642722e-02  7.00000000e+01]\n",
      " [-8.64754579e-02  6.82146994e-02  3.96071032e-02  1.20000000e+01]\n",
      " [-1.25230474e-01 -1.71548543e-01  3.96071032e-02  6.10000000e+01]\n",
      " [-1.36043004e-01 -9.33753627e-02  3.96071032e-02  1.10000000e+01]\n",
      " [ 1.48203043e-01  3.27135701e-02  1.34642722e-02 -1.00000000e+00]\n",
      " [-1.24113193e-01  7.22816983e-02  3.96071032e-02  2.40000000e+01]\n",
      " [-4.63564744e-01  1.72140524e-01  3.96071032e-02 -1.00000000e+00]\n",
      " [-1.87765965e-01 -1.00243645e-01  6.60832672e-02  4.00000000e+00]\n",
      " [-1.74523604e-01  9.05556739e-03  3.96071032e-02 -1.00000000e+00]\n",
      " [-2.65740809e-01  3.68828453e-02  6.60832672e-02 -1.00000000e+00]\n",
      " [ 2.01241200e-01 -1.58605980e-01  6.60832672e-02  2.80000000e+01]\n",
      " [-2.35764182e-01 -7.64361834e-02  9.30832402e-02 -1.00000000e+00]\n",
      " [ 2.53866144e-01 -1.21625622e-01  6.60832672e-02  7.50000000e+01]\n",
      " [ 3.67275099e-02 -9.16247921e-02  1.15630837e-01  4.30000000e+01]\n",
      " [ 1.77667713e-01  2.86219676e-02  6.60832672e-02 -1.00000000e+00]\n",
      " [ 5.44688062e-02 -1.77358894e-01  9.30832402e-02  1.90000000e+01]\n",
      " [ 2.84079196e-01 -2.28823097e-02  9.30832402e-02 -1.00000000e+00]\n",
      " [-3.43797072e-01  2.27595464e-02  9.30832402e-02  4.80000000e+01]\n",
      " [ 2.79685256e-01  7.88853442e-02  9.30832402e-02  2.60000000e+01]\n",
      " [-3.06749762e-01  4.35950501e-02  1.15630837e-01  2.00000000e+01]\n",
      " [-5.05114649e-02  8.11175097e-02  9.30832402e-02 -1.00000000e+00]\n",
      " [ 2.18261076e-01 -2.86222444e-02  1.15630837e-01  3.20000000e+01]\n",
      " [ 2.22150183e-02 -7.60375299e-03  1.15630837e-01  3.80000000e+01]\n",
      " [ 4.04666874e-01  5.54663217e-03  1.15630837e-01 -1.00000000e+00]\n",
      " [-7.63088956e-02  4.87681664e-02  1.15630837e-01 -1.00000000e+00]\n",
      " [-2.85813025e-01 -3.53923207e-02  1.46702234e-01 -1.00000000e+00]\n",
      " [ 2.51145534e-01 -6.75923672e-02  1.46702234e-01 -1.00000000e+00]\n",
      " [ 1.45314023e-01 -5.30491702e-02  1.46702234e-01  5.40000000e+01]\n",
      " [ 5.59352564e-02 -1.88684651e-01  1.15630837e-01 -1.00000000e+00]\n",
      " [ 3.89568590e-01  5.34565177e-03  1.46702234e-01 -1.00000000e+00]\n",
      " [ 3.41572049e-01 -1.07759694e-01  1.73987921e-01  4.70000000e+01]\n",
      " [ 2.28364502e-01 -1.06165355e-01  1.46702234e-01 -1.00000000e+00]\n",
      " [ 2.68030204e-01 -1.10971473e-02  1.73987921e-01  1.70000000e+01]\n",
      " [ 9.38885531e-02  4.45096313e-03  1.46702234e-01  6.80000000e+01]\n",
      " [ 1.10063408e-01 -5.70163930e-02  1.73987921e-01  6.20000000e+01]\n",
      " [ 3.26852564e-02 -1.21471015e-01  1.95154567e-01 -1.00000000e+00]]\n"
     ]
    }
   ],
   "source": [
    "print(points2)"
   ]
  },
  {
   "cell_type": "raw",
   "id": "a74d446a",
   "metadata": {},
   "source": [
    "accs = []\n",
    "match_model = FlexiblePointMatcherConv(num_skip=2)\n",
    "for i in range(1, 64):\n",
    "    points1 = np.load(f\"./fDNC_Data_PretrainedModel/Data/train_synthetic/syn_uns_300/syn_300_{i-1}.npy\")\n",
    "    points2 = np.load(f\"./fDNC_Data_PretrainedModel/Data/train_synthetic/syn_uns_300/syn_300_{i}.npy\")\n",
    "    pairs = match_by_fpm(fpm_model, points1=points1[:, :3], points2=points2[:, :3],\n",
    "                ids_ref=points1[:, 3], ids_tgt=points2[:, 3], match_method=\"greedy\")\n",
    "    accs.append(cal_acc(points2, pairs))\n",
    "print(f\"average acc = {np.mean(accs)}, std={np.std(accs)}\")"
   ]
  },
  {
   "cell_type": "raw",
   "id": "89b7310a",
   "metadata": {},
   "source": [
    "accs = []\n",
    "for i in range(1, 64):\n",
    "    points1 = np.load(f\"fDNC_Data_PretrainedModel/Data/test_synthetic/syn_uns_200/syn_200_{i-1}.npy\")\n",
    "    points2 = np.load(f\"fDNC_Data_PretrainedModel/Data/test_synthetic/syn_uns_200/syn_200_{i}.npy\")\n",
    "    pairs = match_by_fpm(fpm_model, points1=points1[:, :3], points2=points2[:, :3],\n",
    "                ids_ref=points1[:, 3], ids_tgt=points2[:, 3], match_method=\"greedy\")\n",
    "    accs.append(cal_acc(points2, pairs))\n",
    "print(f\"average acc = {np.mean(accs)}, std={np.std(accs)}\")"
   ]
  },
  {
   "cell_type": "code",
   "execution_count": 18,
   "id": "108ed9e9",
   "metadata": {},
   "outputs": [
    {
     "name": "stdout",
     "output_type": "stream",
     "text": [
      "average acc = 0.7475656832590566, std=0.1578968397968092\n"
     ]
    }
   ],
   "source": [
    "match_model = FlexiblePointMatcherConv(num_skip=2)\n",
    "fpm_model = load_fpm(fpm_model_path=\"./fpm_models/fpm_conv_2skip_worm3_180_deg.h5\", match_model=match_model)\n",
    "import glob\n",
    "npy_files = glob.glob(\"fDNC_Data/test_tracking/real_jeff_all\" + \"/*.npy\")\n",
    "accs = []\n",
    "for i in range(100):\n",
    "    points1 = np.load(npy_files[i])\n",
    "    points2 = np.load(npy_files[i+200])\n",
    "    pairs = match_by_fpm(fpm_model, points1=points1[:, :3], points2=points2[:, :3],\n",
    "                ids_ref=points1[:, 3], ids_tgt=points2[:, 3], match_method=\"greedy\")\n",
    "    accs.append(cal_acc(points2, pairs))\n",
    "print(f\"average acc = {np.mean(accs)}, std={np.std(accs)}\")"
   ]
  },
  {
   "cell_type": "code",
   "execution_count": 30,
   "id": "795e04cc",
   "metadata": {},
   "outputs": [
    {
     "name": "stdout",
     "output_type": "stream",
     "text": [
      "average acc = 1.0089915546491581, std=0.2099461835550842\n"
     ]
    }
   ],
   "source": [
    "match_model = FlexiblePointMatcherConv(num_skip=2)\n",
    "fpm_model = load_fpm(fpm_model_path=\"./fpm_models/fpm_conv_2skip_worm3_180_deg.h5\", match_model=match_model)\n",
    "match_model2 = FlexiblePointMatcherConv(num_skip=2)\n",
    "fpm_model_2 = load_fpm(fpm_model_path=\"./fpm_models/fpm_conv_2skip_worm3_10_deg.h5\", match_model=match_model2)\n",
    "\n",
    "import glob\n",
    "npy_files = glob.glob(\"fDNC_Data/test_tracking/real_jeff_all\" + \"/*.npy\")\n",
    "accs = []\n",
    "for i in range(100):\n",
    "    points1 = np.load(npy_files[i])\n",
    "    points2 = np.load(npy_files[i+200])\n",
    "    aligned_t1, norm_t2, pairs = rotation_align_by_fpm(fpm_model_rot, points1=points1[:, :3], \n",
    "                                                                  points2=points2[:, :3],\n",
    "                ids_ref=points1[:, 3], ids_tgt=points2[:, 3], match_method=\"greedy\")\n",
    "\n",
    "    pairs_2 = match_by_fpm(fpm_model_2, aligned_t1, norm_t2,\n",
    "                ids_ref=points1[:, 3], ids_tgt=points2[:, 3], match_method=\"greedy\")\n",
    "\n",
    "    accs.append(cal_acc(points2, pairs_2))\n",
    "print(f\"average acc = {np.mean(accs)}, std={np.std(accs)}\")"
   ]
  },
  {
   "cell_type": "raw",
   "id": "b0528824",
   "metadata": {},
   "source": [
    "match_model = FlexiblePointMatcherOriginal()\n",
    "fpm_model = load_fpm(fpm_model_path=\"./fpm_models/fpm_ori_worm3_180_deg.h5\", match_model=match_model)\n",
    "import glob\n",
    "npy_files = glob.glob(\"fDNC_Data/test_tracking/real_jeff_all\" + \"/*.npy\")\n",
    "accs = []\n",
    "for i in range(100):\n",
    "    points1 = np.load(npy_files[i])\n",
    "    points2 = np.load(npy_files[i+200])\n",
    "    pairs = match_by_fpm(fpm_model, points1=points1[:, :3], points2=points2[:, :3],\n",
    "                ids_ref=points1[:, 3], ids_tgt=points2[:, 3], match_method=\"greedy\")\n",
    "    accs.append(cal_acc(points2, pairs))\n",
    "print(f\"average acc = {np.mean(accs)}, std={np.std(accs)}\")"
   ]
  },
  {
   "cell_type": "code",
   "execution_count": 46,
   "id": "ec23a2d2",
   "metadata": {
    "scrolled": false
   },
   "outputs": [
    {
     "name": "stdout",
     "output_type": "stream",
     "text": [
      "[ 1  3  4  5  6  7 10 11 12 14 16 17 18 19 20 22 23 24 25 26 27 28 29 30\n",
      " 31 32 33 34 35 36 37 38 39 40 41 42 43 44 46 47 48 52 57 59 60 61 64 65\n",
      " 66 67 69 72 73 77 78 80 82 83 89 90 91 94 95 98]\n"
     ]
    },
    {
     "data": {
      "text/plain": [
       "0.453125"
      ]
     },
     "execution_count": 46,
     "metadata": {},
     "output_type": "execute_result"
    }
   ],
   "source": [
    "match_model = FlexiblePointMatcherConv(num_skip=2)\n",
    "fpm_model_rot = load_fpm(fpm_model_path=\"./fpm_models/fpm_conv_2skip_worm3_180_deg.h5\", match_model=match_model)\n",
    "\n",
    "import glob\n",
    "npy_files = glob.glob(\"fDNC_Data/test_tracking/real_jeff_all\" + \"/*.npy\")\n",
    "points1 = np.load(npy_files[0])\n",
    "points2 = np.load(npy_files[100])\n",
    "aligned_t1, norm_t2, pairs = rotation_align_by_fpm(fpm_model_rot, points1=points1[:, :3], \n",
    "                                                              points2=points2[:, :3],\n",
    "            ids_ref=points1[:, 3], ids_tgt=points2[:, 3], match_method=\"greedy\")\n",
    "\n",
    "cal_acc(points2, pairs)"
   ]
  },
  {
   "cell_type": "code",
   "execution_count": 47,
   "id": "0f7550a5",
   "metadata": {
    "scrolled": false
   },
   "outputs": [
    {
     "name": "stdout",
     "output_type": "stream",
     "text": [
      "[ 1  3  4  5  6  7 10 11 12 14 16 17 18 19 20 22 23 24 25 26 27 28 29 30\n",
      " 31 32 33 34 35 36 37 38 39 40 41 42 43 44 46 47 48 52 57 59 60 61 64 65\n",
      " 66 67 69 72 73 77 78 80 82 83 89 90 91 94 95 98]\n"
     ]
    },
    {
     "data": {
      "text/plain": [
       "0.65625"
      ]
     },
     "execution_count": 47,
     "metadata": {},
     "output_type": "execute_result"
    }
   ],
   "source": [
    "match_model2 = FlexiblePointMatcherConv(num_skip=2)\n",
    "fpm_model = load_fpm(fpm_model_path=\"./fpm_models/fpm_conv_2skip_worm3_10_deg.h5\", match_model=match_model2)\n",
    "pairs = match_by_fpm(fpm_model, aligned_t1, norm_t2,\n",
    "            ids_ref=points1[:, 3], ids_tgt=points2[:, 3], match_method=\"greedy\")\n",
    "\n",
    "cal_acc(points2, pairs)"
   ]
  },
  {
   "cell_type": "code",
   "execution_count": 48,
   "id": "fa67c768",
   "metadata": {},
   "outputs": [
    {
     "name": "stdout",
     "output_type": "stream",
     "text": [
      "[ 1  3  4  5  6  7 10 11 12 14 16 17 18 19 20 22 23 24 25 26 27 28 29 30\n",
      " 31 32 33 34 35 36 37 38 39 40 41 42 43 44 46 47 48 52 57 59 60 61 64 65\n",
      " 66 67 69 72 73 77 78 80 82 83 89 90 91 94 95 98]\n"
     ]
    },
    {
     "data": {
      "text/plain": [
       "0.34375"
      ]
     },
     "execution_count": 48,
     "metadata": {},
     "output_type": "execute_result"
    }
   ],
   "source": [
    "match_model = FlexiblePointMatcherOriginal()\n",
    "fpm_model = load_fpm(fpm_model_path=\"./fpm_models/fpm_ori_worm3_180_deg.h5\", match_model=match_model)\n",
    "import glob\n",
    "npy_files = glob.glob(\"fDNC_Data/test_tracking/real_jeff_all\" + \"/*.npy\")\n",
    "points1 = np.load(npy_files[0])\n",
    "points2 = np.load(npy_files[100])\n",
    "pairs = match_by_fpm(fpm_model, points1=points1[:, :3], points2=points2[:, :3],\n",
    "            ids_ref=points1[:, 3], ids_tgt=points2[:, 3], match_method=\"greedy\")\n",
    "cal_acc(points2, pairs)"
   ]
  },
  {
   "cell_type": "raw",
   "id": "685432e2",
   "metadata": {},
   "source": [
    "import glob\n",
    "import matplotlib.pyplot as plt\n",
    "npy_files = glob.glob(\"fDNC_Data/test_tracking/real_jeff_all\" + \"/*.npy\")\n",
    "for i, file in enumerate(npy_files[:100]):  \n",
    "    print(f\"points {i + 1}\")\n",
    "    points = np.load(file)\n",
    "    fig = plt.figure(figsize=(10,10))\n",
    "    plt.scatter(points[:,0], points[:,1])\n",
    "    plt.axis(\"equal\")\n",
    "    plt.pause(0.1)"
   ]
  },
  {
   "cell_type": "code",
   "execution_count": null,
   "id": "d5da580e",
   "metadata": {},
   "outputs": [],
   "source": []
  }
 ],
 "metadata": {
  "kernelspec": {
   "display_name": "Python 3 (ipykernel)",
   "language": "python",
   "name": "python3"
  },
  "language_info": {
   "codemirror_mode": {
    "name": "ipython",
    "version": 3
   },
   "file_extension": ".py",
   "mimetype": "text/x-python",
   "name": "python",
   "nbconvert_exporter": "python",
   "pygments_lexer": "ipython3",
   "version": "3.8.13"
  }
 },
 "nbformat": 4,
 "nbformat_minor": 5
}
