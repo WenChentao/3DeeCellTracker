{
 "cells": [
  {
   "cell_type": "code",
   "execution_count": 1,
   "metadata": {},
   "outputs": [],
   "source": [
    "%load_ext autoreload\n",
    "%autoreload \n",
    "from DNC_predict import predict_label, pre_matt\n",
    "import numpy as np"
   ]
  },
  {
   "cell_type": "code",
   "execution_count": 2,
   "metadata": {},
   "outputs": [],
   "source": [
    "def cal_acc(points2, test_label):\n",
    "    ids = points2[:, 3]>-1\n",
    "    groundtruth = points2[ids, 3]\n",
    "    prediction = np.asarray(test_label)[ids, 0]\n",
    "    if prediction.dtype=='<U32':\n",
    "        prediction = np.asarray([-1 if i==\"\" else int(float(i)) for i in prediction])\n",
    "    acc = np.count_nonzero(np.abs(groundtruth-prediction)<0.1)/groundtruth.size\n",
    "    #print(f\"accuracy={acc}\")\n",
    "    return acc"
   ]
  },
  {
   "cell_type": "code",
   "execution_count": 3,
   "metadata": {},
   "outputs": [
    {
     "name": "stderr",
     "output_type": "stream",
     "text": [
      "/home/wen/PycharmProjects/3DeeCellTracker/Examples/use_fpm_stardist/fDNC/model.py:598: UserWarning: Creating a tensor from a list of numpy.ndarrays is extremely slow. Please consider converting the list to a single numpy.ndarray with numpy.array() before converting to a tensor. (Triggered internally at  /opt/conda/conda-bld/pytorch_1646756402876/work/torch/csrc/utils/tensor_new.cpp:210.)\n",
      "  sents_var = torch.tensor(sents_padded, dtype=torch.float, device=self.device)\n"
     ]
    }
   ],
   "source": [
    "i=1\n",
    "points1 = np.load(f\"../fDNC_Data_PretrainedModel/Data/train_synthetic/syn_uns_300/syn_300_{i}.npy\")\n",
    "points2 = np.load(f\"../fDNC_Data_PretrainedModel/Data/train_synthetic/syn_uns_300/syn_300_{i-1}.npy\")\n",
    "test_label, _ = predict_label(points1[:, :3], points1[:, 3], points2[:, :3], points2[:, 3], \n",
    "                                           None, cuda=False)"
   ]
  },
  {
   "cell_type": "markdown",
   "metadata": {},
   "source": [
    "## The accuracy on a training data set"
   ]
  },
  {
   "cell_type": "code",
   "execution_count": 4,
   "metadata": {
    "scrolled": false
   },
   "outputs": [
    {
     "name": "stdout",
     "output_type": "stream",
     "text": [
      "average acc = 0.7699244914230599, std=0.07637533050160977\n"
     ]
    }
   ],
   "source": [
    "# the model can works with/without gpu(cuda=True/False)\n",
    "accs = []\n",
    "for i in range(1, 64):\n",
    "    #print(f\"i={i}\")\n",
    "    points1 = np.load(f\"../fDNC_Data_PretrainedModel/Data/train_synthetic/syn_uns_300/syn_300_{i-1}.npy\")\n",
    "    points2 = np.load(f\"../fDNC_Data_PretrainedModel/Data/train_synthetic/syn_uns_300/syn_300_{i}.npy\")\n",
    "    test_label, _ = predict_label(points1[:, :3], points1[:, 3], points2[:, :3], points2[:, 3], \n",
    "                                               None, cuda=False)\n",
    "    accs.append(cal_acc(points2, test_label))\n",
    "print(f\"average acc = {np.mean(accs)}, std={np.std(accs)}\")"
   ]
  },
  {
   "cell_type": "code",
   "execution_count": 45,
   "metadata": {},
   "outputs": [
    {
     "name": "stdout",
     "output_type": "stream",
     "text": [
      "average acc = 0.8007745292175136, std=0.07753937713942259\n"
     ]
    }
   ],
   "source": [
    "# the model can works with/without gpu(cuda=True/False)\n",
    "accs = []\n",
    "for i in range(1, 64):\n",
    "    #print(f\"i={i}\")\n",
    "    points1 = np.load(f\"../fDNC_Data_PretrainedModel/Data/test_synthetic/syn_uns_200/syn_200_{i-1}.npy\")\n",
    "    points2 = np.load(f\"../fDNC_Data_PretrainedModel/Data/test_synthetic/syn_uns_200/syn_200_{i}.npy\")\n",
    "    test_label, _ = predict_label(points1[:, :3], points1[:, 3], points2[:, :3], points2[:, 3], \n",
    "                                               None, cuda=False)\n",
    "    accs.append(cal_acc(points2, test_label))\n",
    "print(f\"average acc = {np.mean(accs)}, std={np.std(accs)}\")"
   ]
  },
  {
   "cell_type": "code",
   "execution_count": 6,
   "metadata": {},
   "outputs": [
    {
     "name": "stdout",
     "output_type": "stream",
     "text": [
      "average acc = 0.7402247853653592, std=0.08345396119454526\n"
     ]
    }
   ],
   "source": [
    "import glob\n",
    "npy_files = glob.glob(\"../fDNC_Data/test_tracking/real_jeff_all\" + \"/*.npy\")\n",
    "accs = []\n",
    "for i in range(100):\n",
    "    points1 = np.load(npy_files[i])\n",
    "    points2 = np.load(npy_files[i+200])\n",
    "    test_label, _ = predict_label(points1[:, :3], points1[:, 3], points2[:, :3], points2[:, 3], \n",
    "                                               None, cuda=False)\n",
    "    accs.append(cal_acc(points2, test_label))\n",
    "print(f\"average acc = {np.mean(accs)}, std={np.std(accs)}\")"
   ]
  },
  {
   "cell_type": "code",
   "execution_count": null,
   "metadata": {},
   "outputs": [],
   "source": []
  }
 ],
 "metadata": {
  "kernelspec": {
   "display_name": "Python 3 (ipykernel)",
   "language": "python",
   "name": "python3"
  },
  "language_info": {
   "codemirror_mode": {
    "name": "ipython",
    "version": 3
   },
   "file_extension": ".py",
   "mimetype": "text/x-python",
   "name": "python",
   "nbconvert_exporter": "python",
   "pygments_lexer": "ipython3",
   "version": "3.8.13"
  }
 },
 "nbformat": 4,
 "nbformat_minor": 4
}
