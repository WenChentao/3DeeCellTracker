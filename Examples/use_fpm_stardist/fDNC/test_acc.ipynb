{
 "cells": [
  {
   "cell_type": "code",
   "execution_count": 1,
   "metadata": {},
   "outputs": [
    {
     "name": "stderr",
     "output_type": "stream",
     "text": [
      "C:\\Users\\chint\\anaconda3\\envs\\pytorch\\lib\\site-packages\\tqdm\\auto.py:22: TqdmWarning: IProgress not found. Please update jupyter and ipywidgets. See https://ipywidgets.readthedocs.io/en/stable/user_install.html\n",
      "  from .autonotebook import tqdm as notebook_tqdm\n"
     ]
    }
   ],
   "source": [
    "%load_ext autoreload\n",
    "%autoreload \n",
    "from DNC_predict import predict_label, pre_matt\n",
    "import numpy as np\n",
    "import glob"
   ]
  },
  {
   "cell_type": "code",
   "execution_count": 24,
   "metadata": {},
   "outputs": [],
   "source": [
    "def accuracy(pairs_nx3: np.ndarray, pairs_gt_mx3: np.ndarray):\n",
    "    if len(pairs_gt_mx3)==0:\n",
    "        print(\"Warning: no ground truth data!\")\n",
    "        return\n",
    "\n",
    "    common_elements, common_idx1, common_idx2 = np.intersect1d(pairs_nx3[:, 0], pairs_gt_mx3[:, 0],\n",
    "                                                               return_indices=True)\n",
    "\n",
    "    pairs_col_2 = pairs_nx3[common_idx1, 1]\n",
    "    pairs_gt_col_2 = pairs_gt_mx3[common_idx2, 1]\n",
    "    idx = np.nonzero(pairs_col_2==pairs_gt_col_2)[0]\n",
    "   # print(pairs_nx3[common_idx1][idx])\n",
    "    return len(idx)/len(pairs_gt_mx3)\n",
    "\n",
    "\n",
    "def ids_to_pairs(ids_1: np.ndarray, ids_2: np.ndarray) -> np.ndarray:\n",
    "    \"\"\"Generate ground truth of pairs from test_tracking data in https://osf.io/t7dzu/\n",
    "\n",
    "    Notes\n",
    "    -----\n",
    "    The ids can be obtained from points[:, 3] loaded from the .npy files.\n",
    "    The value -1 means the cell is not tracked. Other values (>=0) means the identified numeric id.\n",
    "    \"\"\"\n",
    "    array1, array2 = ids_1.astype(int), ids_2.astype(int),\n",
    "    filtered_array1 = array1[array1 != -1]\n",
    "    filtered_array2 = array2[array2 != -1]\n",
    "\n",
    "    # 找出相同元素及其在两个数组中的位置\n",
    "    common_elements, common_idx1, common_idx2 = np.intersect1d(filtered_array1, filtered_array2, return_indices=True)\n",
    "\n",
    "    # 对 array1, 2 进行排序，并记录原始索引\n",
    "    sorted_indices_1 = np.argsort(array1)\n",
    "    sorted_arr1 = array1[sorted_indices_1]\n",
    "    sorted_indices_2 = np.argsort(array2)\n",
    "    sorted_arr2 = array2[sorted_indices_2]\n",
    "\n",
    "    # 使用 searchsorted 找到插入位置\n",
    "    insert_positions_1 = np.searchsorted(sorted_arr1, common_elements)\n",
    "    insert_positions_2 = np.searchsorted(sorted_arr2, common_elements)\n",
    "\n",
    "    # 使用原始索引获取实际位置\n",
    "    original_idx1 = sorted_indices_1[insert_positions_1]\n",
    "    original_idx2 = sorted_indices_2[insert_positions_2]\n",
    "\n",
    "    # 根据reference points的编号进行排序\n",
    "    sorted_indices = np.argsort(original_idx1)\n",
    "    pairs_gt = np.column_stack((original_idx1[sorted_indices], original_idx2[sorted_indices]))\n",
    "    return pairs_gt"
   ]
  },
  {
   "cell_type": "code",
   "execution_count": 3,
   "metadata": {},
   "outputs": [
    {
     "ename": "NameError",
     "evalue": "name 'points1' is not defined",
     "output_type": "error",
     "traceback": [
      "\u001b[1;31m---------------------------------------------------------------------------\u001b[0m",
      "\u001b[1;31mNameError\u001b[0m                                 Traceback (most recent call last)",
      "Input \u001b[1;32mIn [3]\u001b[0m, in \u001b[0;36m<cell line: 1>\u001b[1;34m()\u001b[0m\n\u001b[1;32m----> 1\u001b[0m \u001b[43mpoints1\u001b[49m[:,\u001b[38;5;241m3\u001b[39m]\u001b[38;5;241m.\u001b[39mastype(\u001b[38;5;28mint\u001b[39m), points2[:,\u001b[38;5;241m3\u001b[39m]\u001b[38;5;241m.\u001b[39mastype(\u001b[38;5;28mint\u001b[39m)\n",
      "\u001b[1;31mNameError\u001b[0m: name 'points1' is not defined"
     ]
    }
   ],
   "source": [
    "points1[:,3].astype(int), points2[:,3].astype(int)"
   ]
  },
  {
   "cell_type": "code",
   "execution_count": 27,
   "metadata": {
    "scrolled": false
   },
   "outputs": [
    {
     "data": {
      "text/plain": [
       "0.07575757575757576"
      ]
     },
     "execution_count": 27,
     "metadata": {},
     "output_type": "execute_result"
    }
   ],
   "source": [
    "npy_files = glob.glob(\"../fDNC_Data/test_tracking/real_jeff_all\" + \"/*.npy\")\n",
    "i=3\n",
    "points1 = np.load(npy_files[i])\n",
    "points2 = np.load(npy_files[i+1])\n",
    "pred_test_label, _ = predict_label(temp_pos=points1[:, :3], \n",
    "                              temp_label=np.arange(points1.shape[0]), \n",
    "                              test_pos=points2[:, :3], \n",
    "                              temp_color=None, cuda=False)\n",
    "pairs_gt = ids_to_pairs(points1[:, 3],points2[:, 3])\n",
    "pairs_pred = np.asarray([(i, id)for i, (id, p) in enumerate(pred_test_label) if p > 0])\n",
    "# print(pairs_pred)\n",
    "# print(pairs_gt)\n",
    "accuracy(pairs_pred, pairs_gt)"
   ]
  },
  {
   "cell_type": "markdown",
   "metadata": {},
   "source": [
    "## The accuracy on a training data set"
   ]
  },
  {
   "cell_type": "code",
   "execution_count": 22,
   "metadata": {
    "scrolled": false
   },
   "outputs": [
    {
     "ename": "FileNotFoundError",
     "evalue": "[Errno 2] No such file or directory: '../fDNC_Data_PretrainedModel/Data/train_synthetic/syn_uns_300/syn_300_0.npy'",
     "output_type": "error",
     "traceback": [
      "\u001b[1;31m---------------------------------------------------------------------------\u001b[0m",
      "\u001b[1;31mFileNotFoundError\u001b[0m                         Traceback (most recent call last)",
      "Input \u001b[1;32mIn [22]\u001b[0m, in \u001b[0;36m<cell line: 3>\u001b[1;34m()\u001b[0m\n\u001b[0;32m      2\u001b[0m accs \u001b[38;5;241m=\u001b[39m []\n\u001b[0;32m      3\u001b[0m \u001b[38;5;28;01mfor\u001b[39;00m i \u001b[38;5;129;01min\u001b[39;00m \u001b[38;5;28mrange\u001b[39m(\u001b[38;5;241m1\u001b[39m, \u001b[38;5;241m64\u001b[39m):\n\u001b[0;32m      4\u001b[0m     \u001b[38;5;66;03m#print(f\"i={i}\")\u001b[39;00m\n\u001b[1;32m----> 5\u001b[0m     points1 \u001b[38;5;241m=\u001b[39m \u001b[43mnp\u001b[49m\u001b[38;5;241;43m.\u001b[39;49m\u001b[43mload\u001b[49m\u001b[43m(\u001b[49m\u001b[38;5;124;43mf\u001b[39;49m\u001b[38;5;124;43m\"\u001b[39;49m\u001b[38;5;124;43m../fDNC_Data_PretrainedModel/Data/train_synthetic/syn_uns_300/syn_300_\u001b[39;49m\u001b[38;5;132;43;01m{\u001b[39;49;00m\u001b[43mi\u001b[49m\u001b[38;5;241;43m-\u001b[39;49m\u001b[38;5;241;43m1\u001b[39;49m\u001b[38;5;132;43;01m}\u001b[39;49;00m\u001b[38;5;124;43m.npy\u001b[39;49m\u001b[38;5;124;43m\"\u001b[39;49m\u001b[43m)\u001b[49m\n\u001b[0;32m      6\u001b[0m     points2 \u001b[38;5;241m=\u001b[39m np\u001b[38;5;241m.\u001b[39mload(\u001b[38;5;124mf\u001b[39m\u001b[38;5;124m\"\u001b[39m\u001b[38;5;124m../fDNC_Data_PretrainedModel/Data/train_synthetic/syn_uns_300/syn_300_\u001b[39m\u001b[38;5;132;01m{\u001b[39;00mi\u001b[38;5;132;01m}\u001b[39;00m\u001b[38;5;124m.npy\u001b[39m\u001b[38;5;124m\"\u001b[39m)\n\u001b[0;32m      7\u001b[0m     pred_test_label, _ \u001b[38;5;241m=\u001b[39m predict_label(temp_pos\u001b[38;5;241m=\u001b[39mpoints1[:, :\u001b[38;5;241m3\u001b[39m], \n\u001b[0;32m      8\u001b[0m                                   temp_label\u001b[38;5;241m=\u001b[39mnp\u001b[38;5;241m.\u001b[39marange(points1\u001b[38;5;241m.\u001b[39mshape[\u001b[38;5;241m0\u001b[39m]), \n\u001b[0;32m      9\u001b[0m                                   test_pos\u001b[38;5;241m=\u001b[39mpoints2[:, :\u001b[38;5;241m3\u001b[39m], \n\u001b[0;32m     10\u001b[0m                                   temp_color\u001b[38;5;241m=\u001b[39m\u001b[38;5;28;01mNone\u001b[39;00m, cuda\u001b[38;5;241m=\u001b[39m\u001b[38;5;28;01mFalse\u001b[39;00m)\n",
      "File \u001b[1;32m~\\anaconda3\\envs\\pytorch\\lib\\site-packages\\numpy\\lib\\npyio.py:417\u001b[0m, in \u001b[0;36mload\u001b[1;34m(file, mmap_mode, allow_pickle, fix_imports, encoding)\u001b[0m\n\u001b[0;32m    415\u001b[0m     own_fid \u001b[38;5;241m=\u001b[39m \u001b[38;5;28;01mFalse\u001b[39;00m\n\u001b[0;32m    416\u001b[0m \u001b[38;5;28;01melse\u001b[39;00m:\n\u001b[1;32m--> 417\u001b[0m     fid \u001b[38;5;241m=\u001b[39m stack\u001b[38;5;241m.\u001b[39menter_context(\u001b[38;5;28;43mopen\u001b[39;49m\u001b[43m(\u001b[49m\u001b[43mos_fspath\u001b[49m\u001b[43m(\u001b[49m\u001b[43mfile\u001b[49m\u001b[43m)\u001b[49m\u001b[43m,\u001b[49m\u001b[43m \u001b[49m\u001b[38;5;124;43m\"\u001b[39;49m\u001b[38;5;124;43mrb\u001b[39;49m\u001b[38;5;124;43m\"\u001b[39;49m\u001b[43m)\u001b[49m)\n\u001b[0;32m    418\u001b[0m     own_fid \u001b[38;5;241m=\u001b[39m \u001b[38;5;28;01mTrue\u001b[39;00m\n\u001b[0;32m    420\u001b[0m \u001b[38;5;66;03m# Code to distinguish from NumPy binary files and pickles.\u001b[39;00m\n",
      "\u001b[1;31mFileNotFoundError\u001b[0m: [Errno 2] No such file or directory: '../fDNC_Data_PretrainedModel/Data/train_synthetic/syn_uns_300/syn_300_0.npy'"
     ]
    }
   ],
   "source": [
    "# the model can works with/without gpu(cuda=True/False)\n",
    "accs = []\n",
    "for i in range(1, 64):\n",
    "    #print(f\"i={i}\")\n",
    "    points1 = np.load(f\"../fDNC_Data_PretrainedModel/Data/train_synthetic/syn_uns_300/syn_300_{i-1}.npy\")\n",
    "    points2 = np.load(f\"../fDNC_Data_PretrainedModel/Data/train_synthetic/syn_uns_300/syn_300_{i}.npy\")\n",
    "    pred_test_label, _ = predict_label(temp_pos=points1[:, :3], \n",
    "                                  temp_label=np.arange(points1.shape[0]), \n",
    "                                  test_pos=points2[:, :3], \n",
    "                                  temp_color=None, cuda=False)\n",
    "    pairs_gt = ids_to_pairs(points1[:, 3],points2[:, 3])\n",
    "    pairs_pred = np.asarray([(i, id)for i, (id, p) in enumerate(pred_test_label) if p > 0])\n",
    "    accs.append(accuracy(pairs_pred, pairs_gt))\n",
    "print(f\"average acc = {np.mean(accs)}, std={np.std(accs)}\")"
   ]
  },
  {
   "cell_type": "code",
   "execution_count": 45,
   "metadata": {},
   "outputs": [
    {
     "name": "stdout",
     "output_type": "stream",
     "text": [
      "average acc = 0.8007745292175136, std=0.07753937713942259\n"
     ]
    }
   ],
   "source": [
    "# the model can works with/without gpu(cuda=True/False)\n",
    "accs = []\n",
    "for i in range(1, 64):\n",
    "    #print(f\"i={i}\")\n",
    "    points1 = np.load(f\"../fDNC_Data_PretrainedModel/Data/test_synthetic/syn_uns_200/syn_200_{i-1}.npy\")\n",
    "    points2 = np.load(f\"../fDNC_Data_PretrainedModel/Data/test_synthetic/syn_uns_200/syn_200_{i}.npy\")\n",
    "    test_label, _ = predict_label(points1[:, :3], points1[:, 3], points2[:, :3], points2[:, 3], \n",
    "                                               None, cuda=False)\n",
    "    accs.append(cal_acc(points2, test_label))\n",
    "print(f\"average acc = {np.mean(accs)}, std={np.std(accs)}\")"
   ]
  },
  {
   "cell_type": "code",
   "execution_count": 26,
   "metadata": {},
   "outputs": [
    {
     "name": "stdout",
     "output_type": "stream",
     "text": [
      "average acc = 0.11023646696460744, std=0.054240101576148336\n"
     ]
    }
   ],
   "source": [
    "import glob\n",
    "npy_files = glob.glob(\"../fDNC_Data/test_tracking/real_jeff_all\" + \"/*.npy\")\n",
    "accs = []\n",
    "for i in range(100):\n",
    "    print(f\"{i}\", end=\"\\r\")\n",
    "    points1 = np.load(npy_files[i])\n",
    "    points2 = np.load(npy_files[i+100])\n",
    "    pred_test_label, _ = predict_label(temp_pos=points1[:, :3], \n",
    "                                  temp_label=np.arange(points1.shape[0]), \n",
    "                                  test_pos=points2[:, :3], \n",
    "                                  temp_color=None, cuda=False)\n",
    "    pairs_gt = ids_to_pairs(points1[:, 3],points2[:, 3])\n",
    "    pairs_pred = np.asarray([(i, id)for i, (id, p) in enumerate(pred_test_label) if p > 0])\n",
    "    accs.append(accuracy(pairs_pred, pairs_gt))\n",
    "print(f\"average acc = {np.mean(accs)}, std={np.std(accs)}\")"
   ]
  },
  {
   "cell_type": "code",
   "execution_count": null,
   "metadata": {},
   "outputs": [],
   "source": []
  }
 ],
 "metadata": {
  "kernelspec": {
   "display_name": "Python 3 (ipykernel)",
   "language": "python",
   "name": "python3"
  },
  "language_info": {
   "codemirror_mode": {
    "name": "ipython",
    "version": 3
   },
   "file_extension": ".py",
   "mimetype": "text/x-python",
   "name": "python",
   "nbconvert_exporter": "python",
   "pygments_lexer": "ipython3",
   "version": "3.9.11"
  }
 },
 "nbformat": 4,
 "nbformat_minor": 4
}
