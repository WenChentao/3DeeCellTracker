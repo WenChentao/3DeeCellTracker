{
 "cells": [
  {
   "cell_type": "code",
   "execution_count": null,
   "id": "9cd5f536",
   "metadata": {},
   "outputs": [],
   "source": [
    "%load_ext autoreload\n",
    "%autoreload 2\n",
    "from CellTracker.match_ids import match_coords_to_ids\n",
    "from CellTracker.test_matching_models import match_by_fpm, load_fpm\n",
    "from CellTracker.fpm import FlexiblePointMatcherConv\n",
    "import numpy as np\n",
    "from IPython.core.display import display, HTML\n",
    "display(HTML(\"<style>.container { width:100% !important; }</style>\"))\n",
    "import plotly\n",
    "import csv\n",
    "import os\n",
    "plotly.offline.init_notebook_mode()"
   ]
  },
  {
   "cell_type": "code",
   "execution_count": null,
   "id": "81524ca3",
   "metadata": {},
   "outputs": [],
   "source": [
    "coordinates_wba = np.load(\"./coordinates_all.npy\")[0]\n",
    "coordinates_wba.shape\n",
    "match_model = FlexiblePointMatcherConv(num_skip=2)\n",
    "fpm_model = load_fpm(fpm_model_path=\"../../../use_fpm_stardist/fpm_models/fpm_conv_2skip_worm3_10_deg.h5\", match_model=match_model)"
   ]
  },
  {
   "cell_type": "code",
   "execution_count": null,
   "id": "82c002b2",
   "metadata": {
    "scrolled": false
   },
   "outputs": [],
   "source": [
    "#os.mkdir('results')\n",
    "\n",
    "match = match_coords_to_ids(fpm_model=fpm_model,\n",
    "    coordinates_nx3=coordinates_wba,\n",
    "    path_to_neuropal_csv=\"./matched_Composite.csv\", \n",
    "                    ignored_ids_wba=None, ignored_ids_neuropal=None,\n",
    "                    skiprows=7, verbosity=2, hdf5_path=\"./results/links.h5\")\n",
    "sorted_match = match[match[:, 0].astype(int).argsort()]\n",
    "\n",
    "with open(\"./results/links.csv\", mode='w', newline='') as file:\n",
    "    writer = csv.writer(file)\n",
    "\n",
    "    # Write each row of the array to the CSV file\n",
    "    for row in sorted_match:\n",
    "        writer.writerow(row)"
   ]
  },
  {
   "cell_type": "code",
   "execution_count": null,
   "id": "f00afdf6",
   "metadata": {},
   "outputs": [],
   "source": []
  }
 ],
 "metadata": {
  "kernelspec": {
   "display_name": "Python 3 (ipykernel)",
   "language": "python",
   "name": "python3"
  },
  "language_info": {
   "codemirror_mode": {
    "name": "ipython",
    "version": 3
   },
   "file_extension": ".py",
   "mimetype": "text/x-python",
   "name": "python",
   "nbconvert_exporter": "python",
   "pygments_lexer": "ipython3",
   "version": "3.8.13"
  }
 },
 "nbformat": 4,
 "nbformat_minor": 5
}
