{
 "cells": [
  {
   "cell_type": "markdown",
   "id": "9df812d6",
   "metadata": {},
   "source": [
    "# Please install plotly and h5py packages before using this program"
   ]
  },
  {
   "cell_type": "code",
   "execution_count": null,
   "id": "7f380f4f",
   "metadata": {},
   "outputs": [],
   "source": [
    "%load_ext autoreload\n",
    "%autoreload 2\n",
    "\n",
    "from IPython.core.display import display, HTML\n",
    "display(HTML(\"<style>.container { width:100% !important; }</style>\"))\n",
    "\n",
    "import sys\n",
    "sys.path.append('../../')\n",
    "from manual_correction import correct_links"
   ]
  },
  {
   "cell_type": "markdown",
   "id": "21681029",
   "metadata": {},
   "source": [
    "# `init_matching_file`: The automatic matching results with h5 format\n",
    "\n",
    "# `modify_pairs`: A List of tuples, each tuple indicate the new links you want to add, with format (ID_wba: int, ID_NeuroPAL: str). If you would like to delete a link, use (ID_wba, None) or (None, ID_NeuroPAL)\n",
    "\n",
    "# `new_results_name`: The filename to store the modified results in h5 and csv formats. If it is None, the results will not be saved."
   ]
  },
  {
   "cell_type": "code",
   "execution_count": null,
   "id": "1b65b905",
   "metadata": {
    "scrolled": false
   },
   "outputs": [],
   "source": [
    "correct_links(init_matching_file = \"./results/links.h5\", modify_pairs=[(43, \"M2L\"), (112, \"ADAL\"), (52, None)], new_results_name =\"./results/links_new\")"
   ]
  },
  {
   "cell_type": "code",
   "execution_count": null,
   "id": "4a228556",
   "metadata": {},
   "outputs": [],
   "source": []
  }
 ],
 "metadata": {
  "kernelspec": {
   "display_name": "Python 3 (ipykernel)",
   "language": "python",
   "name": "python3"
  },
  "language_info": {
   "codemirror_mode": {
    "name": "ipython",
    "version": 3
   },
   "file_extension": ".py",
   "mimetype": "text/x-python",
   "name": "python",
   "nbconvert_exporter": "python",
   "pygments_lexer": "ipython3",
   "version": "3.8.13"
  }
 },
 "nbformat": 4,
 "nbformat_minor": 5
}
