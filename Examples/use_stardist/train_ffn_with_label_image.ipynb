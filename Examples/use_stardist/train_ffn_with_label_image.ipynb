{
 "cells": [
  {
   "cell_type": "code",
   "execution_count": 1,
   "id": "d7388e91",
   "metadata": {},
   "outputs": [],
   "source": [
    "from CellTracker.ffn import TrainFFN"
   ]
  },
  {
   "cell_type": "code",
   "execution_count": 3,
   "id": "66d02cae",
   "metadata": {},
   "outputs": [],
   "source": [
    "ffn_trainer = TrainFFN(model_name=\"ffn_worm4_0001\", segmentation1_path=\"./worm4/manual_vol1/*.tif\",\n",
    "                       voxel_size=(1, 1, 1))"
   ]
  },
  {
   "cell_type": "code",
   "execution_count": 4,
   "id": "e4b68323",
   "metadata": {},
   "outputs": [
    {
     "name": "stderr",
     "output_type": "stream",
     "text": [
      "Epoch 1/100:   0%|    | 0/5000 [00:00<?, ?batch/s]2023-04-23 15:00:13.553460: I tensorflow/stream_executor/cuda/cuda_blas.cc:1760] TensorFloat-32 will be used for the matrix multiplication. This will only be logged once.\n",
      "Epoch 1/100: 5001batch [00:39, 128.23batch/s, Train loss=0.103]\n",
      "Epoch 2/100:   9%| | 459/5000 [00:03<00:36, 126.01\n"
     ]
    },
    {
     "ename": "KeyboardInterrupt",
     "evalue": "",
     "output_type": "error",
     "traceback": [
      "\u001b[0;31m---------------------------------------------------------------------------\u001b[0m",
      "\u001b[0;31mKeyboardInterrupt\u001b[0m                         Traceback (most recent call last)",
      "Input \u001b[0;32mIn [4]\u001b[0m, in \u001b[0;36m<cell line: 1>\u001b[0;34m()\u001b[0m\n\u001b[0;32m----> 1\u001b[0m \u001b[43mffn_trainer\u001b[49m\u001b[38;5;241;43m.\u001b[39;49m\u001b[43mtrain\u001b[49m\u001b[43m(\u001b[49m\u001b[43mnum_epochs\u001b[49m\u001b[38;5;241;43m=\u001b[39;49m\u001b[38;5;241;43m100\u001b[39;49m\u001b[43m)\u001b[49m\n",
      "File \u001b[0;32m~/PycharmProjects/3DeeCellTracker/CellTracker/ffn.py:134\u001b[0m, in \u001b[0;36mTrainFFN.train\u001b[0;34m(self, num_epochs, iteration, weights_name)\u001b[0m\n\u001b[1;32m    132\u001b[0m n \u001b[38;5;241m=\u001b[39m \u001b[38;5;241m0\u001b[39m\n\u001b[1;32m    133\u001b[0m \u001b[38;5;28;01mwith\u001b[39;00m tqdm(total\u001b[38;5;241m=\u001b[39miteration, desc\u001b[38;5;241m=\u001b[39m\u001b[38;5;124mf\u001b[39m\u001b[38;5;124m'\u001b[39m\u001b[38;5;124mEpoch \u001b[39m\u001b[38;5;132;01m{\u001b[39;00mepoch\u001b[38;5;132;01m}\u001b[39;00m\u001b[38;5;124m/\u001b[39m\u001b[38;5;132;01m{\u001b[39;00mend_epoch \u001b[38;5;241m-\u001b[39m \u001b[38;5;241m1\u001b[39m\u001b[38;5;132;01m}\u001b[39;00m\u001b[38;5;124m'\u001b[39m, ncols\u001b[38;5;241m=\u001b[39m\u001b[38;5;241m50\u001b[39m, unit\u001b[38;5;241m=\u001b[39m\u001b[38;5;124m'\u001b[39m\u001b[38;5;124mbatch\u001b[39m\u001b[38;5;124m'\u001b[39m) \u001b[38;5;28;01mas\u001b[39;00m pbar:\n\u001b[0;32m--> 134\u001b[0m     \u001b[38;5;28;01mfor\u001b[39;00m X, y \u001b[38;5;129;01min\u001b[39;00m train_loader:\n\u001b[1;32m    135\u001b[0m         \u001b[38;5;28;01mwith\u001b[39;00m tf\u001b[38;5;241m.\u001b[39mGradientTape() \u001b[38;5;28;01mas\u001b[39;00m tape:\n\u001b[1;32m    136\u001b[0m             X_prediction \u001b[38;5;241m=\u001b[39m \u001b[38;5;28mself\u001b[39m\u001b[38;5;241m.\u001b[39mmodel(X)\n",
      "File \u001b[0;32m~/PycharmProjects/3DeeCellTracker/CellTracker/ffn.py:64\u001b[0m, in \u001b[0;36mDataGeneratorFFN.generator_train_data\u001b[0;34m(points_nx3)\u001b[0m\n\u001b[1;32m     62\u001b[0m     points_wi_seg_errors, replaced_indexes \u001b[38;5;241m=\u001b[39m add_seg_errors(points_tgt_nx3, ratio\u001b[38;5;241m=\u001b[39mRATIO_SEG_ERROR)\n\u001b[1;32m     63\u001b[0m     s_ \u001b[38;5;241m=\u001b[39m \u001b[38;5;28mslice\u001b[39m(i \u001b[38;5;241m*\u001b[39m sample_num_one_set, (i \u001b[38;5;241m+\u001b[39m \u001b[38;5;241m1\u001b[39m) \u001b[38;5;241m*\u001b[39m sample_num_one_set)\n\u001b[0;32m---> 64\u001b[0m     \u001b[43mpoints_to_features\u001b[49m\u001b[43m(\u001b[49m\u001b[43mx_mxf\u001b[49m\u001b[43m[\u001b[49m\u001b[43ms_\u001b[49m\u001b[43m,\u001b[49m\u001b[43m \u001b[49m\u001b[43m:\u001b[49m\u001b[43m]\u001b[49m\u001b[43m,\u001b[49m\u001b[43m \u001b[49m\u001b[43my_mx1\u001b[49m\u001b[43m[\u001b[49m\u001b[43ms_\u001b[49m\u001b[43m,\u001b[49m\u001b[43m \u001b[49m\u001b[38;5;241;43m0\u001b[39;49m\u001b[43m]\u001b[49m\u001b[43m,\u001b[49m\u001b[43m \u001b[49m\u001b[43mpoints_nx3\u001b[49m\u001b[43m,\u001b[49m\u001b[43m \u001b[49m\u001b[43mpoints_wi_seg_errors\u001b[49m\u001b[43m,\u001b[49m\u001b[43m \u001b[49m\u001b[43mreplaced_indexes\u001b[49m\u001b[43m,\u001b[49m\n\u001b[1;32m     65\u001b[0m \u001b[43m                       \u001b[49m\u001b[43mmethod_features\u001b[49m\u001b[38;5;241;43m=\u001b[39;49m\u001b[43mfeatures_of_points_ffn_quick\u001b[49m\u001b[43m,\u001b[49m\u001b[43m \u001b[49m\u001b[43mnum_features\u001b[49m\u001b[38;5;241;43m=\u001b[39;49m\u001b[43mNUMBER_FEATURES\u001b[49m\u001b[43m,\u001b[49m\n\u001b[1;32m     66\u001b[0m \u001b[43m                       \u001b[49m\u001b[43mk_ptrs\u001b[49m\u001b[38;5;241;43m=\u001b[39;49m\u001b[43mk_ptrs\u001b[49m\u001b[43m)\u001b[49m\n\u001b[1;32m     68\u001b[0m np\u001b[38;5;241m.\u001b[39mrandom\u001b[38;5;241m.\u001b[39mshuffle(random_indexes)\n\u001b[1;32m     69\u001b[0m \u001b[38;5;28;01mfor\u001b[39;00m i \u001b[38;5;129;01min\u001b[39;00m \u001b[38;5;28mrange\u001b[39m(sample_num \u001b[38;5;241m/\u001b[39m\u001b[38;5;241m/\u001b[39m batch_size):\n",
      "File \u001b[0;32m~/PycharmProjects/3DeeCellTracker/CellTracker/synthesize.py:22\u001b[0m, in \u001b[0;36mpoints_to_features\u001b[0;34m(x_2nxk, y_2nx1, points_raw_nx3, points_wi_errors_nx3, replaced_indexes, method_features, num_features, k_ptrs)\u001b[0m\n\u001b[1;32m     19\u001b[0m x_a_nxf \u001b[38;5;241m=\u001b[39m method_features(points_raw_nx3, points_raw_nx3, k_ptrs, num_features, knn_model_raw)\n\u001b[1;32m     20\u001b[0m x_b_match_nxf \u001b[38;5;241m=\u001b[39m method_features(points_wi_errors_nx3, points_wi_errors_nx3, k_ptrs, num_features,\n\u001b[1;32m     21\u001b[0m                                 knn_model_generated)\n\u001b[0;32m---> 22\u001b[0m x_b_no_match_nxf \u001b[38;5;241m=\u001b[39m \u001b[43mmethod_features\u001b[49m\u001b[43m(\u001b[49m\u001b[43mpoints_wi_errors_nx3\u001b[49m\u001b[43m,\u001b[49m\u001b[43m \u001b[49m\u001b[43mpoints_no_match_nx3\u001b[49m\u001b[43m,\u001b[49m\u001b[43m \u001b[49m\u001b[43mk_ptrs\u001b[49m\u001b[43m,\u001b[49m\u001b[43m \u001b[49m\u001b[43mnum_features\u001b[49m\u001b[43m,\u001b[49m\n\u001b[1;32m     23\u001b[0m \u001b[43m                                   \u001b[49m\u001b[43mknn_model_generated\u001b[49m\u001b[43m)\u001b[49m\n\u001b[1;32m     25\u001b[0m features_a \u001b[38;5;241m=\u001b[39m np\u001b[38;5;241m.\u001b[39mvstack((x_a_nxf, x_a_nxf))\n\u001b[1;32m     26\u001b[0m features_b \u001b[38;5;241m=\u001b[39m np\u001b[38;5;241m.\u001b[39mvstack((x_b_match_nxf, x_b_no_match_nxf))\n",
      "File \u001b[0;32m~/PycharmProjects/3DeeCellTracker/CellTracker/ffn.py:78\u001b[0m, in \u001b[0;36mfeatures_of_points_ffn_quick\u001b[0;34m(points_nx3, points_tgt_nx3, k_neighbors, number_features, knn_model)\u001b[0m\n\u001b[1;32m     76\u001b[0m distances_nxk, neighbors_indexes_nxk \u001b[38;5;241m=\u001b[39m knn_model\u001b[38;5;241m.\u001b[39mkneighbors(points_tgt_nx3)\n\u001b[1;32m     77\u001b[0m dist_mean_nx1x1 \u001b[38;5;241m=\u001b[39m np\u001b[38;5;241m.\u001b[39mmean(distances_nxk, axis\u001b[38;5;241m=\u001b[39m\u001b[38;5;241m1\u001b[39m)[:, \u001b[38;5;28;01mNone\u001b[39;00m, \u001b[38;5;28;01mNone\u001b[39;00m]\n\u001b[0;32m---> 78\u001b[0m neighbor_points_nxkx3 \u001b[38;5;241m=\u001b[39m \u001b[43mpoints_nx3\u001b[49m\u001b[43m[\u001b[49m\u001b[43mneighbors_indexes_nxk\u001b[49m\u001b[43m[\u001b[49m\u001b[43m:\u001b[49m\u001b[43m,\u001b[49m\u001b[43m \u001b[49m\u001b[38;5;241;43m1\u001b[39;49m\u001b[43m:\u001b[49m\u001b[43mk_neighbors\u001b[49m\u001b[43m \u001b[49m\u001b[38;5;241;43m+\u001b[39;49m\u001b[43m \u001b[49m\u001b[38;5;241;43m1\u001b[39;49m\u001b[43m]\u001b[49m\u001b[43m,\u001b[49m\u001b[43m \u001b[49m\u001b[43m:\u001b[49m\u001b[43m]\u001b[49m\n\u001b[1;32m     79\u001b[0m coordinates_relative_nxkx3 \u001b[38;5;241m=\u001b[39m (neighbor_points_nxkx3 \u001b[38;5;241m-\u001b[39m points_tgt_nx3[:, \u001b[38;5;28;01mNone\u001b[39;00m, :]) \u001b[38;5;241m/\u001b[39m dist_mean_nx1x1\n\u001b[1;32m     81\u001b[0m x_nxf \u001b[38;5;241m=\u001b[39m np\u001b[38;5;241m.\u001b[39mzeros((points_nx3\u001b[38;5;241m.\u001b[39mshape[\u001b[38;5;241m0\u001b[39m], number_features))\n",
      "\u001b[0;31mKeyboardInterrupt\u001b[0m: "
     ]
    }
   ],
   "source": [
    "ffn_trainer.train(num_epochs=100)"
   ]
  },
  {
   "cell_type": "code",
   "execution_count": null,
   "id": "e0b88089",
   "metadata": {},
   "outputs": [],
   "source": []
  },
  {
   "cell_type": "code",
   "execution_count": null,
   "id": "89658056",
   "metadata": {},
   "outputs": [],
   "source": []
  }
 ],
 "metadata": {
  "kernelspec": {
   "display_name": "Python 3 (ipykernel)",
   "language": "python",
   "name": "python3"
  },
  "language_info": {
   "codemirror_mode": {
    "name": "ipython",
    "version": 3
   },
   "file_extension": ".py",
   "mimetype": "text/x-python",
   "name": "python",
   "nbconvert_exporter": "python",
   "pygments_lexer": "ipython3",
   "version": "3.8.13"
  }
 },
 "nbformat": 4,
 "nbformat_minor": 5
}
