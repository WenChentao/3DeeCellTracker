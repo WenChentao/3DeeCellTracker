{
 "cells": [
  {
   "cell_type": "markdown",
   "metadata": {},
   "source": [
    "# 3DeeCellTracker Demo: single mode\n",
    "\n",
    "This notebook shows how to use 3DeeCellTracker to track cells in single mode.\n",
    "\n",
    "**The basic procedures:**\n",
    "1. Initialize the parameters for tracking\n",
    "2. Prepare images to be tracked and the pre-trained U-Net and FFN models.\n",
    "3. Optimize segmentation parameters and segment the image at volume 1.\n",
    "4. Correct the segmentation at volume 1 (in other image processing software)\n",
    "5. Optimize tracking parameters.\n",
    "6. Track following volumes.\n",
    "\n",
    "\n",
    "**Please run folloing codes according to the instructions**\n",
    "- Some codes can be skipped if unnecessary."
   ]
  },
  {
   "cell_type": "markdown",
   "metadata": {},
   "source": [
    "## Import packages"
   ]
  },
  {
   "cell_type": "code",
   "execution_count": null,
   "metadata": {
    "ExecuteTime": {
     "end_time": "2021-05-26T08:37:33.392631Z",
     "start_time": "2021-05-26T08:37:25.487531Z"
    },
    "scrolled": true
   },
   "outputs": [],
   "source": [
    "%load_ext autoreload\n",
    "%autoreload 2\n",
    "import os\n",
    "import warnings\n",
    "warnings.filterwarnings('ignore')\n",
    "\n",
    "from IPython.core.display import display, HTML\n",
    "from matplotlib.animation import FuncAnimation, ArtistAnimation\n",
    "from CellTracker.tracker import Tracker, save_tracker, load_tracker\n",
    "display(HTML(\"<style>.container { width:95% !important; }</style>\"))\n",
    "%matplotlib inline"
   ]
  },
  {
   "cell_type": "markdown",
   "metadata": {},
   "source": [
    "## 1. Initialize the parameters for tracking\n",
    "**Image parameters**\n",
    "- volume: number of the volumes (time points) of the images to be tracked\n",
    "- siz_xyz: size of each 3D image: (height, width, depth), unit: voxels\n",
    "- z_xy_ratio: resolution (um/voxels) ratio between z (depth) and x-y plane\n",
    "- z_scaling: (integer), the factor for interpolating the unbalanced z_xy resolution\n",
    "\n",
    "**Segmentation parameters**\n",
    "- noise_level: a value close to the averaged non-cell region intensity, which helps the program to ignore the background noises.\n",
    "- min_size: the possible mimimal cell size, which helps the program to ignore small non-cell regions.\n",
    "- Note: To change them after this initialization, please use \".set_segmentation()\" which will delete the cached segmentation files\n",
    "\n",
    "**Tracking parameters**\n",
    "- beta_tk: set it higher/lower to get more coherent/independent predictions for cell positions.\n",
    "- lambda_tk: set it higher/lower to get more coherent/independent predictions for cell positions.\n",
    "- maxiter_tk: (integer) the number of iteration for the tracking algorithm (FFN+PR-GLS), the higher, the more accurate (but slower)\n",
    "\n",
    "**Paths**\n",
    "- folder_path: the path of the folder to store the data, model, and results.\n",
    "    - \"./xxx\" indicates a folder with name \"xxx\" under the directory containing this jupyter notebook.\n",
    "- image_name: the names of the images to be tracked. \n",
    "    - \"aligned_t%03i_z%03i.tif\" indicates file names like: \"aligned_t002_z011.tif\", \"aligned_t502_z101.tif\", etc.\n",
    "- unet_model_file: the name of the pre-trained unet model file\n",
    "- ffn_model_file: the name of the pre-trained ffn model file"
   ]
  },
  {
   "cell_type": "code",
   "execution_count": null,
   "metadata": {
    "ExecuteTime": {
     "end_time": "2021-05-26T08:37:49.343760Z",
     "start_time": "2021-05-26T08:37:49.314827Z"
    }
   },
   "outputs": [],
   "source": [
    "tracker = Tracker(\n",
    "    volume_num=50, siz_xyz=(512, 1024, 21), z_xy_ratio=9.2, z_scaling=10, \n",
    "    noise_level=20, min_size=100, beta_tk=300, lambda_tk=0.1, maxiter_tk=20, \n",
    "    folder_path=os.path.abspath(\"./worm1\"), image_name=\"aligned_t%03i_z%03i.tif\", \n",
    "    unet_model_file=\"unet3_pretrained.h5\", ffn_model_file=\"ffn_pretrained.h5\")"
   ]
  },
  {
   "cell_type": "markdown",
   "metadata": {},
   "source": [
    "**Create folders to store data, model, and results**\n",
    "- /data: to store the images to be tracked\n",
    "- /auto_vol1: to store the automatically generated segmentation results at volume 1\n",
    "- /manual_vol1: to store the manually corrected segmentation results at volume 1\n",
    "- /tracking_information: to store the coordinates information of the tracked cells\n",
    "- /models: to store the pretrained and retrained models\n",
    "- /unet: to store the cached predictions of cell regions\n",
    "- /track_results_SingleMode: to store the tracking results (images of labels)\n",
    "- /anim: to store the animation of the tracking process (used for diagnosis)\n",
    "- /models/unet_weights: to store the retrained unet weights\n",
    "- Note: in case one folder have been created, the program will not overwrite it."
   ]
  },
  {
   "cell_type": "code",
   "execution_count": null,
   "metadata": {
    "ExecuteTime": {
     "end_time": "2021-05-26T08:37:59.187683Z",
     "start_time": "2021-05-26T08:37:59.152546Z"
    }
   },
   "outputs": [],
   "source": [
    "tracker.make_folders()"
   ]
  },
  {
   "cell_type": "markdown",
   "metadata": {},
   "source": [
    "## 2. Prepare images and pre-trained models\n",
    "**Prepare images**\n",
    "- Move images to the created \"/data\" folder. The names of the images should be consistent with the parameter \"image_name\"\n",
    "- Move the pre-trained 3D U-Net and FFN model files to the created \"/model\" folder"
   ]
  },
  {
   "cell_type": "markdown",
   "metadata": {},
   "source": [
    "## 3. Optimize segmentation parameters and segment the image at volume 1.\n",
    "\n",
    "**Modify the segmentation parameters (optional)**\n",
    "- Please modify these segmentation parameters only when the following segmentation results are unsatisfied\n",
    "- Note: the cached segmentation in \"/unet\" folder will be deleted after this modification"
   ]
  },
  {
   "cell_type": "code",
   "execution_count": null,
   "metadata": {
    "ExecuteTime": {
     "end_time": "2021-05-26T08:38:04.727365Z",
     "start_time": "2021-05-26T08:38:04.695566Z"
    }
   },
   "outputs": [],
   "source": [
    "tracker.set_segmentation(noise_level=20, min_size=100)"
   ]
  },
  {
   "cell_type": "markdown",
   "metadata": {},
   "source": [
    "**Segment cells at volume 1**"
   ]
  },
  {
   "cell_type": "code",
   "execution_count": null,
   "metadata": {
    "ExecuteTime": {
     "end_time": "2021-05-26T08:38:17.919386Z",
     "start_time": "2021-05-26T08:38:07.449221Z"
    }
   },
   "outputs": [],
   "source": [
    "tracker.load_unet()\n",
    "tracker.segment_vol1()"
   ]
  },
  {
   "cell_type": "markdown",
   "metadata": {},
   "source": [
    "**Draw the results of segmentation (Max projection)**"
   ]
  },
  {
   "cell_type": "code",
   "execution_count": null,
   "metadata": {
    "ExecuteTime": {
     "end_time": "2021-05-26T08:38:26.378277Z",
     "start_time": "2021-05-26T08:38:20.699048Z"
    }
   },
   "outputs": [],
   "source": [
    "anim_seg = tracker.draw_segresult(percentile_high=99.8)"
   ]
  },
  {
   "cell_type": "markdown",
   "metadata": {},
   "source": [
    "**Show segmentation in each layer**"
   ]
  },
  {
   "cell_type": "code",
   "execution_count": null,
   "metadata": {
    "ExecuteTime": {
     "end_time": "2021-05-26T08:38:31.859714Z",
     "start_time": "2021-05-26T08:38:31.804213Z"
    }
   },
   "outputs": [],
   "source": [
    "HTML(anim_seg)"
   ]
  },
  {
   "cell_type": "markdown",
   "metadata": {},
   "source": [
    "## 4. Manually correct the segmentation at volume 1 and load it.\n",
    "**Manual correction**\n",
    "- Delete non-cell regions; Add cells not labeled; correct cell boundaries in other software (such as ITK-SNAP)\n",
    "- Move the corrected segmentation (should be 2D images correponding to different z) to the created \"/manual_vol1\" folder"
   ]
  },
  {
   "cell_type": "markdown",
   "metadata": {},
   "source": [
    "**Load the manually corrected segmentation**"
   ]
  },
  {
   "cell_type": "code",
   "execution_count": null,
   "metadata": {
    "ExecuteTime": {
     "end_time": "2021-05-26T09:15:31.820535Z",
     "start_time": "2021-05-26T09:15:31.167239Z"
    }
   },
   "outputs": [],
   "source": [
    "tracker.load_manual_seg()"
   ]
  },
  {
   "cell_type": "markdown",
   "metadata": {},
   "source": [
    "**Re-train the U-Net using the manual segmentation (optional)**\n",
    "- Please do this only if the prediction by U-Net is poor (e.g. many cells were not ignored or many non-cell regions were identified as cells)."
   ]
  },
  {
   "cell_type": "code",
   "execution_count": null,
   "metadata": {
    "ExecuteTime": {
     "end_time": "2021-05-25T06:58:58.378360Z",
     "start_time": "2021-05-25T06:47:00.747217Z"
    },
    "scrolled": false
   },
   "outputs": [],
   "source": [
    "tracker.retrain_unet()"
   ]
  },
  {
   "cell_type": "markdown",
   "metadata": {},
   "source": [
    "- Select an step with satisfied segmentation\n",
    "- If the initial segmentation is better, set step=0"
   ]
  },
  {
   "cell_type": "code",
   "execution_count": null,
   "metadata": {
    "ExecuteTime": {
     "end_time": "2021-05-26T09:21:30.839048Z",
     "start_time": "2021-05-26T09:21:30.754738Z"
    }
   },
   "outputs": [],
   "source": [
    "tracker._select_weights(step=0)"
   ]
  },
  {
   "cell_type": "markdown",
   "metadata": {},
   "source": [
    "**Interpolate cells to make more accurate/smooth cell boundary**"
   ]
  },
  {
   "cell_type": "code",
   "execution_count": null,
   "metadata": {
    "ExecuteTime": {
     "end_time": "2021-05-26T01:26:39.350917Z",
     "start_time": "2021-05-26T01:25:26.100491Z"
    }
   },
   "outputs": [],
   "source": [
    "tracker.interpolate_seg()\n",
    "tracker.draw_manual_seg1()"
   ]
  },
  {
   "cell_type": "markdown",
   "metadata": {},
   "source": [
    "**Initiate variables required for tracking**\n",
    "- cal_subregions(): required by \"accurate correction\" in following procedures\n",
    "- check_multicells(): if multiple separated cells were labeled as the same one, generate an error message."
   ]
  },
  {
   "cell_type": "code",
   "execution_count": null,
   "metadata": {
    "ExecuteTime": {
     "end_time": "2021-05-26T01:28:13.115434Z",
     "start_time": "2021-05-26T01:27:21.282246Z"
    }
   },
   "outputs": [],
   "source": [
    "tracker.cal_subregions()\n",
    "tracker.check_multicells()\n",
    "tracker.load_ffn()\n",
    "tracker.initiate_tracking()"
   ]
  },
  {
   "cell_type": "markdown",
   "metadata": {},
   "source": [
    "## 5. Optimize tracking parameters. \n",
    "**Modify tracking parameters if the test result is not satisfied (optional)**"
   ]
  },
  {
   "cell_type": "code",
   "execution_count": null,
   "metadata": {
    "ExecuteTime": {
     "end_time": "2021-05-20T04:48:32.891774Z",
     "start_time": "2021-05-20T04:48:32.805759Z"
    }
   },
   "outputs": [],
   "source": [
    "tracker.set_tracking(beta_tk=300, lambda_tk=0.1, maxiter_tk=20)"
   ]
  },
  {
   "cell_type": "markdown",
   "metadata": {
    "ExecuteTime": {
     "end_time": "2021-05-14T04:54:59.219773Z",
     "start_time": "2021-05-14T04:54:59.151351Z"
    }
   },
   "source": [
    "**Test a matching between volume 1 and a target volume, and show the FFN + PR-GLS process by an animation (5 iterations)**\n",
    "- Red circles: manually corrected cells in vol 1\n",
    "- Blue cross: cells detected by 3D U-Net in target volume\n",
    "- Blue arrows: predicted transformation (cell movements)"
   ]
  },
  {
   "cell_type": "code",
   "execution_count": null,
   "metadata": {
    "ExecuteTime": {
     "end_time": "2021-05-26T01:30:51.547845Z",
     "start_time": "2021-05-26T01:30:19.765846Z"
    },
    "scrolled": false
   },
   "outputs": [],
   "source": [
    "anim_tracking, results = tracker.match(target_volume=50)\n",
    "HTML(anim_tracking)"
   ]
  },
  {
   "cell_type": "markdown",
   "metadata": {},
   "source": [
    "**Show the accurate correction after the FFN + PR-GLS transformation**\n",
    "- Arrows show the correction of the cell positions\n",
    "- Cells without arrow: no correction."
   ]
  },
  {
   "cell_type": "code",
   "execution_count": null,
   "metadata": {
    "ExecuteTime": {
     "end_time": "2021-05-26T01:39:19.248419Z",
     "start_time": "2021-05-26T01:39:17.837824Z"
    }
   },
   "outputs": [],
   "source": [
    "tracker.draw_correction(*results[2:])"
   ]
  },
  {
   "cell_type": "markdown",
   "metadata": {},
   "source": [
    "**Show the superimposed cells + labels before/after tracking**"
   ]
  },
  {
   "cell_type": "code",
   "execution_count": null,
   "metadata": {
    "ExecuteTime": {
     "end_time": "2021-05-26T01:40:02.318572Z",
     "start_time": "2021-05-26T01:39:59.221840Z"
    },
    "scrolled": false
   },
   "outputs": [],
   "source": [
    "tracker.draw_overlapping(*results[:3])"
   ]
  },
  {
   "cell_type": "markdown",
   "metadata": {},
   "source": [
    "## 6. Tracking following volumes\n",
    "**Track and show the processes**"
   ]
  },
  {
   "cell_type": "code",
   "execution_count": null,
   "metadata": {
    "ExecuteTime": {
     "end_time": "2021-05-26T02:13:47.763734Z",
     "start_time": "2021-05-26T01:56:17.990673Z"
    },
    "scrolled": false
   },
   "outputs": [],
   "source": [
    "%matplotlib notebook\n",
    "from_volume=2\n",
    "ax, fig = tracker.track_animation(from_volume)\n",
    "tracker.track_and_confirm(from_volume, fig, ax)"
   ]
  },
  {
   "cell_type": "markdown",
   "metadata": {},
   "source": [
    "**Show the processes as an animation (for diagnosis)**"
   ]
  },
  {
   "cell_type": "code",
   "execution_count": null,
   "metadata": {
    "ExecuteTime": {
     "end_time": "2021-05-26T03:54:02.354915Z",
     "start_time": "2021-05-26T03:53:57.162971Z"
    },
    "scrolled": false
   },
   "outputs": [],
   "source": [
    "%matplotlib inline\n",
    "track_anim = tracker.track_animation_replay(from_volume=2)\n",
    "HTML(track_anim)"
   ]
  },
  {
   "cell_type": "code",
   "execution_count": null,
   "metadata": {},
   "outputs": [],
   "source": []
  }
 ],
 "metadata": {
  "kernelspec": {
   "display_name": "Python 3",
   "language": "python",
   "name": "python3"
  },
  "language_info": {
   "codemirror_mode": {
    "name": "ipython",
    "version": 3
   },
   "file_extension": ".py",
   "mimetype": "text/x-python",
   "name": "python",
   "nbconvert_exporter": "python",
   "pygments_lexer": "ipython3",
   "version": "3.7.3"
  },
  "toc": {
   "base_numbering": 1,
   "nav_menu": {},
   "number_sections": true,
   "sideBar": true,
   "skip_h1_title": false,
   "title_cell": "Table of Contents",
   "title_sidebar": "Contents",
   "toc_cell": false,
   "toc_position": {},
   "toc_section_display": true,
   "toc_window_display": false
  },
  "varInspector": {
   "cols": {
    "lenName": 16,
    "lenType": 16,
    "lenVar": 40
   },
   "kernels_config": {
    "python": {
     "delete_cmd_postfix": "",
     "delete_cmd_prefix": "del ",
     "library": "var_list.py",
     "varRefreshCmd": "print(var_dic_list())"
    },
    "r": {
     "delete_cmd_postfix": ") ",
     "delete_cmd_prefix": "rm(",
     "library": "var_list.r",
     "varRefreshCmd": "cat(var_dic_list()) "
    }
   },
   "position": {
    "height": "521.183px",
    "left": "897px",
    "right": "20px",
    "top": "146px",
    "width": "539px"
   },
   "types_to_exclude": [
    "module",
    "function",
    "builtin_function_or_method",
    "instance",
    "_Feature"
   ],
   "window_display": false
  }
 },
 "nbformat": 4,
 "nbformat_minor": 4
}
